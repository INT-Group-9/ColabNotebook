{
  "nbformat": 4,
  "nbformat_minor": 0,
  "metadata": {
    "colab": {
      "name": "cifa10_classification.ipynb",
      "provenance": [],
      "collapsed_sections": [],
      "include_colab_link": true
    },
    "kernelspec": {
      "name": "python3",
      "display_name": "Python 3"
    },
    "language_info": {
      "name": "python"
    },
    "accelerator": "GPU"
  },
  "cells": [
    {
      "cell_type": "markdown",
      "metadata": {
        "id": "view-in-github",
        "colab_type": "text"
      },
      "source": [
        "<a href=\"https://colab.research.google.com/github/INT-Group-9/ColabNotebook/blob/Jake/cifa10_classification.ipynb\" target=\"_parent\"><img src=\"https://colab.research.google.com/assets/colab-badge.svg\" alt=\"Open In Colab\"/></a>"
      ]
    },
    {
      "cell_type": "code",
      "metadata": {
        "id": "__KeS8XRo0k1"
      },
      "source": [
        "import torch\n",
        "import torchvision\n",
        "import numpy as np\n",
        "import matplotlib.pyplot as plt\n",
        "import torch.nn as nn\n",
        "import torch.nn.functional as F\n",
        "from torchvision import datasets, transforms\n",
        "\n",
        "classes = ('plane', 'car', 'bird', 'cat',\n",
        "           'deer', 'dog', 'frog', 'horse', 'ship', 'truck')"
      ],
      "execution_count": 1429,
      "outputs": []
    },
    {
      "cell_type": "code",
      "metadata": {
        "id": "LUZmKN1N8TNe",
        "colab": {
          "base_uri": "https://localhost:8080/"
        },
        "outputId": "1c752771-d8d2-4fcf-8f29-6568342a9f98"
      },
      "source": [
        "trainSet = datasets.CIFAR10(\"./data\", train=True, download = True,\n",
        "                         transform = transforms.Compose([transforms.ToTensor()]))\n",
        "\n",
        "testSet = datasets.CIFAR10(\"./data\", train=False, download=True,\n",
        "                         transform = transforms.Compose([transforms.ToTensor()]))"
      ],
      "execution_count": 1430,
      "outputs": [
        {
          "output_type": "stream",
          "text": [
            "Files already downloaded and verified\n",
            "Files already downloaded and verified\n"
          ],
          "name": "stdout"
        }
      ]
    },
    {
      "cell_type": "code",
      "metadata": {
        "id": "T-ALlfXz8VA5"
      },
      "source": [
        "trainLoader = torch.utils.data.DataLoader(trainSet, batch_size=128, shuffle=True)\n",
        "testLoader = torch.utils.data.DataLoader(testSet, batch_size=128, shuffle=True)"
      ],
      "execution_count": 1431,
      "outputs": []
    },
    {
      "cell_type": "code",
      "metadata": {
        "id": "OwzVDJxN8ZXO"
      },
      "source": [
        "# class Net(nn.Module):\n",
        "\n",
        "#   def __init__(self):\n",
        "#     super().__init__()\n",
        "#     self.conv1 = nn.Conv2d(in_channels=3, out_channels=24, kernel_size=3, stride = 1)\n",
        "#     self.pool = nn.MaxPool2d(2, 2)\n",
        "#     self.conv2 = nn.Conv2d(in_channels=24, out_channels=32, kernel_size=3, stride = 1, padding=1)\n",
        "\n",
        "#     self.conv3 = nn.Conv2d(in_channels=32, out_channels=16, kernel_size=3, stride = 1)\n",
        "#     # self.conv4 = nn.Conv2d(in_channels=16, out_channels=16, kernel_size=5, stride = 1)\n",
        "\n",
        "#     self.fc1 = nn.Linear(in_features = 16*5*5, out_features=120)\n",
        "#     self.fc2 = nn.Linear(in_features = 120, out_features=10)\n",
        "#     # self.fc3 = nn.Linear(in_features = 120, out_features=10)\n",
        "  \n",
        "#   def forward(self, input):\n",
        "#     output = self.pool(F.relu(self.conv1(input)))\n",
        "#     # print(output.shape)\n",
        "#     output = self.pool(F.relu(self.conv2(output)))\n",
        "#     output = F.relu(self.conv3(output))\n",
        "#     # print(output.shape)\n",
        "#     # output = self.pool(F.relu(self.conv4(output)))\n",
        "#     # print(output.shape)\n",
        "#     output = output.view(-1, 16 * 5 * 5)\n",
        "\n",
        "#     output = F.relu(self.fc1(output))\n",
        "#     output = self.fc2(output)\n",
        "\n",
        "\n",
        "#     # return F.log_softmax(output, dim=1)\n",
        "#     return output\n",
        "    \n",
        "# net = Net().cuda()\n"
      ],
      "execution_count": 1432,
      "outputs": []
    },
    {
      "cell_type": "code",
      "metadata": {
        "id": "qim3d3d1I3rT"
      },
      "source": [
        "# class Net(nn.Module):\n",
        "\n",
        "#   def __init__(self):\n",
        "#     super().__init__()\n",
        "#     self.conv1 = nn.Conv2d(in_channels=3, out_channels=32, kernel_size=3, padding=1)\n",
        "#     self.conv2 = nn.Conv2d(in_channels=32, out_channels=32, kernel_size=3)\n",
        "#     self.conv3 = nn.Conv2d(in_channels=32, out_channels=64, kernel_size=3)\n",
        "#     self.conv4 = nn.Conv2d(in_channels=64, out_channels=64, kernel_size=3)\n",
        "\n",
        "#     self.fc1 = nn.Linear(in_features = 64*5*5, out_features=512)\n",
        "#     self.fc2 = nn.Linear(in_features = 512, out_features=128)\n",
        "#     self.fc3 = nn.Linear(in_features = 128, out_features=32)\n",
        "#     self.fc4 = nn.Linear(in_features = 32, out_features=10)\n",
        "#     self.fc5 = nn.Linear(in_features = 10, out_features=10)\n",
        "\n",
        "#     self.pool = nn.MaxPool2d(2, 2)\n",
        "\n",
        "#   def forward(self, input):\n",
        "#     output = F.relu(self.conv1(input))\n",
        "#     output = F.relu(self.conv2(output))\n",
        "#     output = self.pool(output)\n",
        "#     output = F.relu(self.conv3(output))\n",
        "#     output = F.relu(self.conv4(output))\n",
        "#     output = self.pool(output)\n",
        "#     output = output.view(-1, 5 * 5 * 64)\n",
        "\n",
        "#     output = F.relu(self.fc1(output))\n",
        "#     output = F.relu(self.fc2(output))\n",
        "#     output = F.relu(self.fc3(output))\n",
        "#     output = F.relu(self.fc4(output))\n",
        "#     output = self.fc5(output)\n",
        "\n",
        "#     return F.softmax(output, dim=1)\n",
        "#     # return output\n",
        "    \n",
        "# net = Net().cuda()\n"
      ],
      "execution_count": 1433,
      "outputs": []
    },
    {
      "cell_type": "code",
      "metadata": {
        "id": "9dM-qidwpgT3"
      },
      "source": [
        "class Net(nn.Module):\n",
        "\n",
        "  def __init__(self):\n",
        "    super().__init__()\n",
        "    self.conv1 = nn.Conv2d(in_channels=3, out_channels=32, kernel_size=3, padding=1)\n",
        "    self.conv2 = nn.Conv2d(in_channels=32, out_channels=64, kernel_size=3, padding=1)\n",
        "    self.batch1 = nn.BatchNorm2d(32)\n",
        "\n",
        "    self.conv3 = nn.Conv2d(in_channels=64, out_channels=128, kernel_size=3, padding=1)\n",
        "    self.conv4 = nn.Conv2d(in_channels=128, out_channels=128, kernel_size=3, padding=1)\n",
        "    self.batch2 = nn.BatchNorm2d(128)\n",
        "\n",
        "    self.conv5 = nn.Conv2d(in_channels=128, out_channels=256, kernel_size=3, padding=1)\n",
        "    self.conv6 = nn.Conv2d(in_channels=256, out_channels=256, kernel_size=3, padding=1)\n",
        "    self.batch3 = nn.BatchNorm2d(256)\n",
        "\n",
        "\n",
        "    self.fc1 = nn.Linear(in_features = 256 * 4 * 4, out_features=1024)\n",
        "    self.fc2 = nn.Linear(in_features = 1024, out_features=512)\n",
        "    self.fc3 = nn.Linear(in_features = 512, out_features=10)\n",
        "    self.dropout1 = nn.Dropout(p=0.1)\n",
        "    self.dropout2 = nn.Dropout(p=0.05)\n",
        "\n",
        "    self.pool = nn.MaxPool2d(2, 2)\n",
        "\n",
        "  def forward(self, input):\n",
        "    output = self.conv1(input)\n",
        "    output = self.batch1(output)\n",
        "    output = F.relu(output)\n",
        "    output = F.relu(self.conv2(output))\n",
        "    output = self.pool(output)\n",
        "\n",
        "    output = self.conv3(output)\n",
        "    output = self.batch2(output)\n",
        "    output = F.relu(output)\n",
        "    output = F.relu(self.conv4(output))\n",
        "    output = self.pool(output)\n",
        "    output = self.dropout2(output)\n",
        "\n",
        "    output = self.conv5(output)\n",
        "    output = self.batch3(output)\n",
        "    output = F.relu(output)\n",
        "    output = F.relu(self.conv6(output))\n",
        "    output = self.pool(output)\n",
        "\n",
        "    # output = output.view(-1, 256 * 4 * 4)\n",
        "    output = output.view(output.size(0), -1)\n",
        "\n",
        "    output = self.dropout1(output)\n",
        "    output = F.relu(self.fc1(output))\n",
        "    output = F.relu(self.fc2(output))\n",
        "    output = self.dropout1(output)\n",
        "    output = self.fc3(output)\n",
        "    # output = F.relu(self.fc4(output))\n",
        "    # output = self.fc5(output)\n",
        "\n",
        "    # return F.softmax(output, dim=1)\n",
        "    return output\n",
        "    \n",
        "net = Net().cuda()\n"
      ],
      "execution_count": 1434,
      "outputs": []
    },
    {
      "cell_type": "code",
      "metadata": {
        "id": "-2IXOJNr9i8_"
      },
      "source": [
        "import torch.optim as optim\n",
        "\n",
        "criterion = nn.CrossEntropyLoss()\n",
        "# criterion = nn.L1Loss()\n",
        "# criterion = nn.PoissonNLLLoss()\n",
        "# criterion = nn.NLLLoss()\n",
        "# optimizer = optim.SGD(net.parameters(), lr=0.01, momentum=0.9)\n",
        "optimizer = optim.Adam(net.parameters(), lr=0.001)"
      ],
      "execution_count": 1435,
      "outputs": []
    },
    {
      "cell_type": "code",
      "metadata": {
        "id": "oLqK-H1bPKmw",
        "outputId": "8efb6987-441f-4b82-ae33-a59ef314b9b6",
        "colab": {
          "base_uri": "https://localhost:8080/"
        }
      },
      "source": [
        "for epoch in range(10):  # loop over the dataset multiple times\n",
        "\n",
        "    running_loss = 0.0\n",
        "    for i, data in enumerate(trainLoader, 0):\n",
        "        # get the inputs; data is a list of [inputs, labels]\n",
        "        inputs, labels = data\n",
        "        inputs, labels = inputs.cuda(), labels.cuda()\n",
        "        # zero the parameter gradients\n",
        "        optimizer.zero_grad()\n",
        "\n",
        "        # forward + backward + optimize\n",
        "        outputs = net(inputs)\n",
        "        loss = criterion(outputs, labels)\n",
        "        loss.backward()\n",
        "        optimizer.step()\n",
        "\n",
        "        # print statistics\n",
        "    running_loss += loss.item()\n",
        "    # running_loss /= len(trainLoader)\n",
        "    if i % 50 == 0:    # print every 2000 mini-batches\n",
        "        print('[%d, %5d] loss: %.3f' %\n",
        "              (epoch + 1, i + 1, running_loss / 2000))\n",
        "        running_loss = 0.0\n",
        "\n",
        "print('Finished Training')"
      ],
      "execution_count": 1436,
      "outputs": [
        {
          "output_type": "stream",
          "text": [
            "Finished Training\n"
          ],
          "name": "stdout"
        }
      ]
    },
    {
      "cell_type": "code",
      "metadata": {
        "id": "qPzl1e7pMcdi"
      },
      "source": [
        "PATH = './cifar_net.pth'\n",
        "torch.save(net.state_dict(), PATH)"
      ],
      "execution_count": 1437,
      "outputs": []
    },
    {
      "cell_type": "code",
      "metadata": {
        "id": "rbv3RyMTMfPC",
        "outputId": "3a8812d9-a15e-419f-9e8e-36c0f74d94b4",
        "colab": {
          "base_uri": "https://localhost:8080/"
        }
      },
      "source": [
        "dataiter = iter(testLoader)\n",
        "images, labels = dataiter.next()\n",
        "images = images.cuda()\n",
        "labels = labels.cuda()\n",
        "\n",
        "# print images\n",
        "# plt.imshow(torchvision.utils.make_grid(images))\n",
        "print('GroundTruth: ', ' '.join('%5s' % classes[labels[j]] for j in range(4)))"
      ],
      "execution_count": 1438,
      "outputs": [
        {
          "output_type": "stream",
          "text": [
            "GroundTruth:    cat  bird  ship   cat\n"
          ],
          "name": "stdout"
        }
      ]
    },
    {
      "cell_type": "code",
      "metadata": {
        "id": "10u4PCJOTb4f",
        "outputId": "ef62ad6e-266e-4804-f4ce-2ec58b1f653f",
        "colab": {
          "base_uri": "https://localhost:8080/"
        }
      },
      "source": [
        "net = Net().cuda()\n",
        "net.load_state_dict(torch.load(PATH))\n",
        "outputs = net(images)\n",
        "\n",
        "_, predicted = torch.max(outputs, 1)\n",
        "\n",
        "print('Predicted: ', ' '.join('%5s' % classes[predicted[j]]\n",
        "                              for j in range(4)))"
      ],
      "execution_count": 1439,
      "outputs": [
        {
          "output_type": "stream",
          "text": [
            "Predicted:    cat horse  ship   cat\n"
          ],
          "name": "stdout"
        }
      ]
    },
    {
      "cell_type": "code",
      "metadata": {
        "id": "aHQnqz2FTmJW",
        "outputId": "9f4fe4a3-90f1-4569-8005-53750c26c6ca",
        "colab": {
          "base_uri": "https://localhost:8080/"
        }
      },
      "source": [
        "correct = 0\n",
        "total = 0\n",
        "# since we're not training, we don't need to calculate the gradients for our outputs\n",
        "with torch.no_grad():\n",
        "    for data in testLoader:\n",
        "        images, labels = data\n",
        "        images = images.cuda()\n",
        "        labels = labels.cuda()\n",
        "        # calculate outputs by running images through the network\n",
        "        outputs = net(images)\n",
        "        # the class with the highest energy is what we choose as prediction\n",
        "        _, predicted = torch.max(outputs.data, 1)\n",
        "        total += labels.size(0)\n",
        "        correct += (predicted == labels).sum().item()\n",
        "\n",
        "print('Accuracy of the network on the 10000 test images: %d %%' % (\n",
        "    100 * correct / total))"
      ],
      "execution_count": 1440,
      "outputs": [
        {
          "output_type": "stream",
          "text": [
            "Accuracy of the network on the 10000 test images: 80 %\n"
          ],
          "name": "stdout"
        }
      ]
    }
  ]
}