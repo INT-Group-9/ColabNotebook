{
  "nbformat": 4,
  "nbformat_minor": 0,
  "metadata": {
    "colab": {
      "name": "cifa10_classification.ipynb",
      "provenance": [],
      "collapsed_sections": [],
      "include_colab_link": true
    },
    "kernelspec": {
      "name": "python3",
      "display_name": "Python 3"
    },
    "language_info": {
      "name": "python"
    }
  },
  "cells": [
    {
      "cell_type": "markdown",
      "metadata": {
        "id": "view-in-github",
        "colab_type": "text"
      },
      "source": [
        "<a href=\"https://colab.research.google.com/github/INT-Group-9/ColabNotebook/blob/Jake/cifa10_classification.ipynb\" target=\"_parent\"><img src=\"https://colab.research.google.com/assets/colab-badge.svg\" alt=\"Open In Colab\"/></a>"
      ]
    },
    {
      "cell_type": "code",
      "metadata": {
        "id": "__KeS8XRo0k1"
      },
      "source": [
        "import torch\n",
        "import torchvision\n",
        "import numpy as np\n",
        "import matplotlib.pyplot as plt\n",
        "import torch.nn as nn\n",
        "import torch.nn.functional as F\n",
        "from torchvision import datasets, transforms\n"
      ],
      "execution_count": 10,
      "outputs": []
    },
    {
      "cell_type": "code",
      "metadata": {
        "id": "LUZmKN1N8TNe",
        "outputId": "e1ffe7d6-51d2-406e-c7fd-68a76ffe5ec5",
        "colab": {
          "base_uri": "https://localhost:8080/"
        }
      },
      "source": [
        "train = datasets.CIFAR10(\"./data\", train=True, download = True,\n",
        "                         transform = transforms.Compose([transforms.ToTensor()]))\n",
        "\n",
        "test = datasets.CIFAR10(\"./data\", train=False, download=True,\n",
        "                         transform = transforms.Compose([transforms.ToTensor()]))"
      ],
      "execution_count": 11,
      "outputs": [
        {
          "output_type": "stream",
          "text": [
            "Files already downloaded and verified\n",
            "Files already downloaded and verified\n"
          ],
          "name": "stdout"
        }
      ]
    },
    {
      "cell_type": "code",
      "metadata": {
        "id": "T-ALlfXz8VA5"
      },
      "source": [
        "trainset = torch.utils.data.DataLoader(train, batch_size=10, shuffle=True)\n",
        "testSet = torch.utils.data.DataLoader(test, batch_size=10, shuffle=True)"
      ],
      "execution_count": 12,
      "outputs": []
    },
    {
      "cell_type": "code",
      "metadata": {
        "id": "OwzVDJxN8ZXO",
        "outputId": "b86de52e-992a-440c-833b-3e979ef6eb60",
        "colab": {
          "base_uri": "https://localhost:8080/"
        }
      },
      "source": [
        "class Net(nn.Module):\n",
        "\n",
        "  def __init__(self):\n",
        "    super().__init__()\n",
        "    self.conv1 = nn.Conv2d(in_channels=3, out_channels=12, kernel_size=3, stride = 1, padding = 1)\n",
        "    self.conv2 = nn.Conv2d(in_channels=12, out_channels=12, kernel_size=3, stride = 1, padding = 1)\n",
        "    self.conv3 = nn.Conv2d(in_channels=12, out_channels=12, kernel_size=3, stride = 1, padding = 1)\n",
        "    self.conv4 = nn.Conv2d(in_channels=12, out_channels=3, kernel_size=3, stride = 1, padding = 1)\n",
        "    self.fc1 = nn.Linear(in_features = 32*32*3, out_features=10)\n",
        "  \n",
        "  def forward(self, input):\n",
        "    output = F.relu(self.conv1(input))\n",
        "    output = F.relu(self.conv2(output))\n",
        "    output = F.relu(self.conv3(output))\n",
        "    output = F.relu(self.conv4(output))\n",
        "\n",
        "    output = self.fc1(output)\n",
        "\n",
        "\n",
        "    return F.log_softmax(output, dim=1)\n",
        "\n",
        "    \n",
        "net = Net()\n",
        "print(net)\n"
      ],
      "execution_count": 13,
      "outputs": [
        {
          "output_type": "stream",
          "text": [
            "Net(\n",
            "  (conv1): Conv2d(3, 12, kernel_size=(3, 3), stride=(1, 1), padding=(1, 1))\n",
            "  (conv2): Conv2d(12, 12, kernel_size=(3, 3), stride=(1, 1), padding=(1, 1))\n",
            "  (conv3): Conv2d(12, 12, kernel_size=(3, 3), stride=(1, 1), padding=(1, 1))\n",
            "  (conv4): Conv2d(12, 3, kernel_size=(3, 3), stride=(1, 1), padding=(1, 1))\n",
            "  (fc1): Linear(in_features=3072, out_features=10, bias=True)\n",
            ")\n"
          ],
          "name": "stdout"
        }
      ]
    }
  ]
}