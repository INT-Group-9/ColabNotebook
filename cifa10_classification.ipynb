{
  "nbformat": 4,
  "nbformat_minor": 0,
  "metadata": {
    "colab": {
      "name": "cifa10_classification.ipynb",
      "provenance": [],
      "collapsed_sections": [],
      "include_colab_link": true
    },
    "kernelspec": {
      "name": "python3",
      "display_name": "Python 3"
    },
    "language_info": {
      "name": "python"
    },
    "widgets": {
      "application/vnd.jupyter.widget-state+json": {
        "6178aee3fc7642d7b26a9a9bb9f1c147": {
          "model_module": "@jupyter-widgets/controls",
          "model_name": "HBoxModel",
          "state": {
            "_view_name": "HBoxView",
            "_dom_classes": [],
            "_model_name": "HBoxModel",
            "_view_module": "@jupyter-widgets/controls",
            "_model_module_version": "1.5.0",
            "_view_count": null,
            "_view_module_version": "1.5.0",
            "box_style": "",
            "layout": "IPY_MODEL_7b46701fe7e447b8a170e251a54b684b",
            "_model_module": "@jupyter-widgets/controls",
            "children": [
              "IPY_MODEL_e1fd0e86eede4082a8308914e62d20ce",
              "IPY_MODEL_ae168a85721046fca4b03a4279ec7552"
            ]
          }
        },
        "7b46701fe7e447b8a170e251a54b684b": {
          "model_module": "@jupyter-widgets/base",
          "model_name": "LayoutModel",
          "state": {
            "_view_name": "LayoutView",
            "grid_template_rows": null,
            "right": null,
            "justify_content": null,
            "_view_module": "@jupyter-widgets/base",
            "overflow": null,
            "_model_module_version": "1.2.0",
            "_view_count": null,
            "flex_flow": null,
            "width": null,
            "min_width": null,
            "border": null,
            "align_items": null,
            "bottom": null,
            "_model_module": "@jupyter-widgets/base",
            "top": null,
            "grid_column": null,
            "overflow_y": null,
            "overflow_x": null,
            "grid_auto_flow": null,
            "grid_area": null,
            "grid_template_columns": null,
            "flex": null,
            "_model_name": "LayoutModel",
            "justify_items": null,
            "grid_row": null,
            "max_height": null,
            "align_content": null,
            "visibility": null,
            "align_self": null,
            "height": null,
            "min_height": null,
            "padding": null,
            "grid_auto_rows": null,
            "grid_gap": null,
            "max_width": null,
            "order": null,
            "_view_module_version": "1.2.0",
            "grid_template_areas": null,
            "object_position": null,
            "object_fit": null,
            "grid_auto_columns": null,
            "margin": null,
            "display": null,
            "left": null
          }
        },
        "e1fd0e86eede4082a8308914e62d20ce": {
          "model_module": "@jupyter-widgets/controls",
          "model_name": "FloatProgressModel",
          "state": {
            "_view_name": "ProgressView",
            "style": "IPY_MODEL_b9cec329020a4488a0282cef6f832e4c",
            "_dom_classes": [],
            "description": "",
            "_model_name": "FloatProgressModel",
            "bar_style": "success",
            "max": 170498071,
            "_view_module": "@jupyter-widgets/controls",
            "_model_module_version": "1.5.0",
            "value": 170498071,
            "_view_count": null,
            "_view_module_version": "1.5.0",
            "orientation": "horizontal",
            "min": 0,
            "description_tooltip": null,
            "_model_module": "@jupyter-widgets/controls",
            "layout": "IPY_MODEL_0bc5a713e8914053a50353ea4cf21dd5"
          }
        },
        "ae168a85721046fca4b03a4279ec7552": {
          "model_module": "@jupyter-widgets/controls",
          "model_name": "HTMLModel",
          "state": {
            "_view_name": "HTMLView",
            "style": "IPY_MODEL_36e7f703515847d2bcb98fa6b2790502",
            "_dom_classes": [],
            "description": "",
            "_model_name": "HTMLModel",
            "placeholder": "​",
            "_view_module": "@jupyter-widgets/controls",
            "_model_module_version": "1.5.0",
            "value": " 170499072/? [1:38:10&lt;00:00, 28944.35it/s]",
            "_view_count": null,
            "_view_module_version": "1.5.0",
            "description_tooltip": null,
            "_model_module": "@jupyter-widgets/controls",
            "layout": "IPY_MODEL_b40e5ff2cc494dffb12bd0de2aa5d100"
          }
        },
        "b9cec329020a4488a0282cef6f832e4c": {
          "model_module": "@jupyter-widgets/controls",
          "model_name": "ProgressStyleModel",
          "state": {
            "_view_name": "StyleView",
            "_model_name": "ProgressStyleModel",
            "description_width": "initial",
            "_view_module": "@jupyter-widgets/base",
            "_model_module_version": "1.5.0",
            "_view_count": null,
            "_view_module_version": "1.2.0",
            "bar_color": null,
            "_model_module": "@jupyter-widgets/controls"
          }
        },
        "0bc5a713e8914053a50353ea4cf21dd5": {
          "model_module": "@jupyter-widgets/base",
          "model_name": "LayoutModel",
          "state": {
            "_view_name": "LayoutView",
            "grid_template_rows": null,
            "right": null,
            "justify_content": null,
            "_view_module": "@jupyter-widgets/base",
            "overflow": null,
            "_model_module_version": "1.2.0",
            "_view_count": null,
            "flex_flow": null,
            "width": null,
            "min_width": null,
            "border": null,
            "align_items": null,
            "bottom": null,
            "_model_module": "@jupyter-widgets/base",
            "top": null,
            "grid_column": null,
            "overflow_y": null,
            "overflow_x": null,
            "grid_auto_flow": null,
            "grid_area": null,
            "grid_template_columns": null,
            "flex": null,
            "_model_name": "LayoutModel",
            "justify_items": null,
            "grid_row": null,
            "max_height": null,
            "align_content": null,
            "visibility": null,
            "align_self": null,
            "height": null,
            "min_height": null,
            "padding": null,
            "grid_auto_rows": null,
            "grid_gap": null,
            "max_width": null,
            "order": null,
            "_view_module_version": "1.2.0",
            "grid_template_areas": null,
            "object_position": null,
            "object_fit": null,
            "grid_auto_columns": null,
            "margin": null,
            "display": null,
            "left": null
          }
        },
        "36e7f703515847d2bcb98fa6b2790502": {
          "model_module": "@jupyter-widgets/controls",
          "model_name": "DescriptionStyleModel",
          "state": {
            "_view_name": "StyleView",
            "_model_name": "DescriptionStyleModel",
            "description_width": "",
            "_view_module": "@jupyter-widgets/base",
            "_model_module_version": "1.5.0",
            "_view_count": null,
            "_view_module_version": "1.2.0",
            "_model_module": "@jupyter-widgets/controls"
          }
        },
        "b40e5ff2cc494dffb12bd0de2aa5d100": {
          "model_module": "@jupyter-widgets/base",
          "model_name": "LayoutModel",
          "state": {
            "_view_name": "LayoutView",
            "grid_template_rows": null,
            "right": null,
            "justify_content": null,
            "_view_module": "@jupyter-widgets/base",
            "overflow": null,
            "_model_module_version": "1.2.0",
            "_view_count": null,
            "flex_flow": null,
            "width": null,
            "min_width": null,
            "border": null,
            "align_items": null,
            "bottom": null,
            "_model_module": "@jupyter-widgets/base",
            "top": null,
            "grid_column": null,
            "overflow_y": null,
            "overflow_x": null,
            "grid_auto_flow": null,
            "grid_area": null,
            "grid_template_columns": null,
            "flex": null,
            "_model_name": "LayoutModel",
            "justify_items": null,
            "grid_row": null,
            "max_height": null,
            "align_content": null,
            "visibility": null,
            "align_self": null,
            "height": null,
            "min_height": null,
            "padding": null,
            "grid_auto_rows": null,
            "grid_gap": null,
            "max_width": null,
            "order": null,
            "_view_module_version": "1.2.0",
            "grid_template_areas": null,
            "object_position": null,
            "object_fit": null,
            "grid_auto_columns": null,
            "margin": null,
            "display": null,
            "left": null
          }
        }
      }
    },
    "accelerator": "GPU"
  },
  "cells": [
    {
      "cell_type": "markdown",
      "metadata": {
        "id": "view-in-github",
        "colab_type": "text"
      },
      "source": [
        "<a href=\"https://colab.research.google.com/github/INT-Group-9/ColabNotebook/blob/clara/cifa10_classification.ipynb\" target=\"_parent\"><img src=\"https://colab.research.google.com/assets/colab-badge.svg\" alt=\"Open In Colab\"/></a>"
      ]
    },
    {
      "cell_type": "code",
      "metadata": {
        "id": "__KeS8XRo0k1"
      },
      "source": [
        "#literally copy pasted code :(\n",
        "import torch\n",
        "import torchvision\n",
        "import torchvision.transforms as transforms"
      ],
      "execution_count": 1,
      "outputs": []
    },
    {
      "cell_type": "code",
      "metadata": {
        "id": "6UJ3nJziSMIW",
        "colab": {
          "base_uri": "https://localhost:8080/",
          "height": 119,
          "referenced_widgets": [
            "6178aee3fc7642d7b26a9a9bb9f1c147",
            "7b46701fe7e447b8a170e251a54b684b",
            "e1fd0e86eede4082a8308914e62d20ce",
            "ae168a85721046fca4b03a4279ec7552",
            "b9cec329020a4488a0282cef6f832e4c",
            "0bc5a713e8914053a50353ea4cf21dd5",
            "36e7f703515847d2bcb98fa6b2790502",
            "b40e5ff2cc494dffb12bd0de2aa5d100"
          ]
        },
        "outputId": "d5290ff5-d021-43e0-9d12-f1e7e3f69bf6"
      },
      "source": [
        "transform = transforms.Compose(\n",
        "    [transforms.ToTensor(),\n",
        "     transforms.Normalize((0.5, 0.5, 0.5), (0.5, 0.5, 0.5))])\n",
        "\n",
        "batch_size = 4\n",
        "\n",
        "trainset = torchvision.datasets.CIFAR10(root='./data', train=True,\n",
        "                                        download=True, transform=transform)\n",
        "trainloader = torch.utils.data.DataLoader(trainset, batch_size=batch_size,\n",
        "                                          shuffle=True, num_workers=2)\n",
        "\n",
        "testset = torchvision.datasets.CIFAR10(root='./data', train=False,\n",
        "                                       download=True, transform=transform)\n",
        "testloader = torch.utils.data.DataLoader(testset, batch_size=batch_size,\n",
        "                                         shuffle=False, num_workers=2)\n",
        "\n",
        "classes = ('plane', 'car', 'bird', 'cat',\n",
        "           'deer', 'dog', 'frog', 'horse', 'ship', 'truck')"
      ],
      "execution_count": 2,
      "outputs": [
        {
          "output_type": "stream",
          "text": [
            "Downloading https://www.cs.toronto.edu/~kriz/cifar-10-python.tar.gz to ./data/cifar-10-python.tar.gz\n"
          ],
          "name": "stdout"
        },
        {
          "output_type": "display_data",
          "data": {
            "application/vnd.jupyter.widget-view+json": {
              "model_id": "6178aee3fc7642d7b26a9a9bb9f1c147",
              "version_minor": 0,
              "version_major": 2
            },
            "text/plain": [
              "HBox(children=(FloatProgress(value=0.0, max=170498071.0), HTML(value='')))"
            ]
          },
          "metadata": {
            "tags": []
          }
        },
        {
          "output_type": "stream",
          "text": [
            "\n",
            "Extracting ./data/cifar-10-python.tar.gz to ./data\n",
            "Files already downloaded and verified\n"
          ],
          "name": "stdout"
        }
      ]
    },
    {
      "cell_type": "code",
      "metadata": {
        "id": "VpjS-8MeSWgv"
      },
      "source": [
        "import torch.nn as nn\n",
        "import torch.nn.functional as F\n",
        "\n",
        "\n",
        "class Net(nn.Module):\n",
        "    def __init__(self):\n",
        "        super().__init__()\n",
        "        self.conv1 = nn.Conv2d(3, 128, 3)\n",
        "        self.pool = nn.MaxPool2d(2, 2)\n",
        "        self.conv2 = nn.Conv2d(128, 64, 3)\n",
        "        self.fc1 = nn.Linear(64*6*6, 128)\n",
        "        self.fc2 = nn.Linear(128, 84)\n",
        "        self.fc3 = nn.Linear(84, 10)\n",
        "\n",
        "    def forward(self, x):\n",
        "        x = self.pool(F.relu(self.conv1(x)))\n",
        "        x = self.pool(F.relu(self.conv2(x)))\n",
        "        x = x.view(-1, 64*6*6)\n",
        "        x = F.relu(self.fc1(x))\n",
        "        x = F.relu(self.fc2(x))\n",
        "        x = self.fc3(x)\n",
        "        return x\n",
        "\n",
        "\n",
        "net = Net()"
      ],
      "execution_count": 3,
      "outputs": []
    },
    {
      "cell_type": "code",
      "metadata": {
        "id": "C-y9iN8VSedM"
      },
      "source": [
        "import torch.optim as optim\n",
        "\n",
        "criterion = nn.CrossEntropyLoss()\n",
        "optimizer = optim.SGD(net.parameters(), lr=0.001, momentum=0.9)"
      ],
      "execution_count": 4,
      "outputs": []
    },
    {
      "cell_type": "code",
      "metadata": {
        "id": "cSX5VkB1Sh1O",
        "colab": {
          "base_uri": "https://localhost:8080/"
        },
        "outputId": "500502fb-c4c6-4a46-a1e3-8ba8e864517c"
      },
      "source": [
        "for epoch in range(25):  # loop over the dataset multiple times\n",
        "\n",
        "    running_loss = 0.0\n",
        "    for i, data in enumerate(trainloader, 0):\n",
        "        # get the inputs; data is a list of [inputs, labels]\n",
        "        inputs, labels = data\n",
        "\n",
        "        # zero the parameter gradients\n",
        "        optimizer.zero_grad()\n",
        "\n",
        "        # forward + backward + optimize\n",
        "        outputs = net(inputs)\n",
        "        loss = criterion(outputs, labels)\n",
        "        loss.backward()\n",
        "        optimizer.step()\n",
        "\n",
        "        # print statistics\n",
        "        running_loss += loss.item()\n",
        "        if i % 2000 == 1999:    # print every 2000 mini-batches\n",
        "            print('[%d, %5d] loss: %.3f' %\n",
        "                  (epoch + 1, i + 1, running_loss / 2000))\n",
        "            running_loss = 0.0\n",
        "\n",
        "print('Finished Training')"
      ],
      "execution_count": 5,
      "outputs": [
        {
          "output_type": "stream",
          "text": [
            "[1,  2000] loss: 2.073\n",
            "[1,  4000] loss: 1.664\n",
            "[1,  6000] loss: 1.508\n",
            "[1,  8000] loss: 1.401\n",
            "[1, 10000] loss: 1.316\n",
            "[1, 12000] loss: 1.234\n",
            "[2,  2000] loss: 1.123\n",
            "[2,  4000] loss: 1.119\n",
            "[2,  6000] loss: 1.067\n",
            "[2,  8000] loss: 1.034\n",
            "[2, 10000] loss: 1.013\n",
            "[2, 12000] loss: 0.977\n",
            "[3,  2000] loss: 0.880\n",
            "[3,  4000] loss: 0.855\n",
            "[3,  6000] loss: 0.881\n",
            "[3,  8000] loss: 0.843\n",
            "[3, 10000] loss: 0.861\n",
            "[3, 12000] loss: 0.837\n",
            "[4,  2000] loss: 0.695\n",
            "[4,  4000] loss: 0.742\n",
            "[4,  6000] loss: 0.745\n",
            "[4,  8000] loss: 0.730\n",
            "[4, 10000] loss: 0.749\n",
            "[4, 12000] loss: 0.695\n",
            "[5,  2000] loss: 0.582\n",
            "[5,  4000] loss: 0.599\n",
            "[5,  6000] loss: 0.615\n",
            "[5,  8000] loss: 0.625\n",
            "[5, 10000] loss: 0.627\n",
            "[5, 12000] loss: 0.648\n",
            "[6,  2000] loss: 0.472\n",
            "[6,  4000] loss: 0.498\n",
            "[6,  6000] loss: 0.525\n",
            "[6,  8000] loss: 0.534\n",
            "[6, 10000] loss: 0.549\n",
            "[6, 12000] loss: 0.542\n",
            "[7,  2000] loss: 0.387\n",
            "[7,  4000] loss: 0.425\n",
            "[7,  6000] loss: 0.424\n",
            "[7,  8000] loss: 0.438\n",
            "[7, 10000] loss: 0.471\n",
            "[7, 12000] loss: 0.463\n",
            "[8,  2000] loss: 0.300\n",
            "[8,  4000] loss: 0.338\n",
            "[8,  6000] loss: 0.363\n",
            "[8,  8000] loss: 0.376\n",
            "[8, 10000] loss: 0.388\n",
            "[8, 12000] loss: 0.413\n",
            "[9,  2000] loss: 0.250\n",
            "[9,  4000] loss: 0.295\n",
            "[9,  6000] loss: 0.311\n",
            "[9,  8000] loss: 0.325\n",
            "[9, 10000] loss: 0.343\n",
            "[9, 12000] loss: 0.357\n",
            "[10,  2000] loss: 0.206\n",
            "[10,  4000] loss: 0.239\n",
            "[10,  6000] loss: 0.252\n",
            "[10,  8000] loss: 0.278\n",
            "[10, 10000] loss: 0.278\n",
            "[10, 12000] loss: 0.309\n",
            "[11,  2000] loss: 0.164\n",
            "[11,  4000] loss: 0.192\n",
            "[11,  6000] loss: 0.216\n",
            "[11,  8000] loss: 0.238\n",
            "[11, 10000] loss: 0.257\n",
            "[11, 12000] loss: 0.259\n",
            "[12,  2000] loss: 0.158\n",
            "[12,  4000] loss: 0.161\n",
            "[12,  6000] loss: 0.201\n",
            "[12,  8000] loss: 0.231\n",
            "[12, 10000] loss: 0.230\n",
            "[12, 12000] loss: 0.224\n",
            "[13,  2000] loss: 0.126\n",
            "[13,  4000] loss: 0.160\n",
            "[13,  6000] loss: 0.164\n",
            "[13,  8000] loss: 0.163\n",
            "[13, 10000] loss: 0.185\n",
            "[13, 12000] loss: 0.198\n",
            "[14,  2000] loss: 0.111\n",
            "[14,  4000] loss: 0.122\n",
            "[14,  6000] loss: 0.158\n",
            "[14,  8000] loss: 0.149\n",
            "[14, 10000] loss: 0.193\n",
            "[14, 12000] loss: 0.193\n",
            "[15,  2000] loss: 0.103\n",
            "[15,  4000] loss: 0.116\n",
            "[15,  6000] loss: 0.119\n",
            "[15,  8000] loss: 0.145\n",
            "[15, 10000] loss: 0.177\n",
            "[15, 12000] loss: 0.178\n",
            "[16,  2000] loss: 0.113\n",
            "[16,  4000] loss: 0.111\n",
            "[16,  6000] loss: 0.140\n",
            "[16,  8000] loss: 0.150\n",
            "[16, 10000] loss: 0.141\n",
            "[16, 12000] loss: 0.147\n",
            "[17,  2000] loss: 0.081\n",
            "[17,  4000] loss: 0.095\n",
            "[17,  6000] loss: 0.103\n",
            "[17,  8000] loss: 0.120\n",
            "[17, 10000] loss: 0.132\n",
            "[17, 12000] loss: 0.149\n",
            "[18,  2000] loss: 0.074\n",
            "[18,  4000] loss: 0.092\n",
            "[18,  6000] loss: 0.087\n",
            "[18,  8000] loss: 0.100\n",
            "[18, 10000] loss: 0.132\n",
            "[18, 12000] loss: 0.134\n",
            "[19,  2000] loss: 0.079\n",
            "[19,  4000] loss: 0.105\n",
            "[19,  6000] loss: 0.112\n",
            "[19,  8000] loss: 0.107\n",
            "[19, 10000] loss: 0.103\n",
            "[19, 12000] loss: 0.122\n",
            "[20,  2000] loss: 0.056\n",
            "[20,  4000] loss: 0.089\n",
            "[20,  6000] loss: 0.141\n",
            "[20,  8000] loss: 0.123\n",
            "[20, 10000] loss: 0.107\n",
            "[20, 12000] loss: 0.122\n",
            "[21,  2000] loss: 0.068\n",
            "[21,  4000] loss: 0.058\n",
            "[21,  6000] loss: 0.073\n",
            "[21,  8000] loss: 0.093\n",
            "[21, 10000] loss: 0.107\n",
            "[21, 12000] loss: 0.107\n",
            "[22,  2000] loss: 0.059\n",
            "[22,  4000] loss: 0.076\n",
            "[22,  6000] loss: 0.073\n",
            "[22,  8000] loss: 0.080\n",
            "[22, 10000] loss: 0.069\n",
            "[22, 12000] loss: 0.089\n",
            "[23,  2000] loss: 0.056\n",
            "[23,  4000] loss: 0.083\n",
            "[23,  6000] loss: 0.070\n",
            "[23,  8000] loss: 0.088\n",
            "[23, 10000] loss: 0.111\n",
            "[23, 12000] loss: 0.100\n",
            "[24,  2000] loss: 0.057\n",
            "[24,  4000] loss: 0.070\n",
            "[24,  6000] loss: 0.078\n",
            "[24,  8000] loss: 0.076\n",
            "[24, 10000] loss: 0.070\n",
            "[24, 12000] loss: 0.081\n",
            "[25,  2000] loss: 0.046\n",
            "[25,  4000] loss: 0.075\n",
            "[25,  6000] loss: 0.052\n",
            "[25,  8000] loss: 0.058\n",
            "[25, 10000] loss: 0.077\n",
            "[25, 12000] loss: 0.082\n",
            "Finished Training\n"
          ],
          "name": "stdout"
        }
      ]
    },
    {
      "cell_type": "code",
      "metadata": {
        "id": "uJEtOd2IVfZg"
      },
      "source": [
        "PATH = './cifar_net.pth'\n",
        "torch.save(net.state_dict(), PATH)"
      ],
      "execution_count": 12,
      "outputs": []
    },
    {
      "cell_type": "code",
      "metadata": {
        "id": "jSOpN9mSVjA8",
        "colab": {
          "base_uri": "https://localhost:8080/"
        },
        "outputId": "2c8fbc86-98ef-467a-f26e-b410c8d2726f"
      },
      "source": [
        "net = Net()\n",
        "net.load_state_dict(torch.load(PATH))"
      ],
      "execution_count": 7,
      "outputs": [
        {
          "output_type": "execute_result",
          "data": {
            "text/plain": [
              "<All keys matched successfully>"
            ]
          },
          "metadata": {
            "tags": []
          },
          "execution_count": 7
        }
      ]
    },
    {
      "cell_type": "code",
      "metadata": {
        "id": "pWL4otLQVsi7"
      },
      "source": [
        "#outputs = net(images)\n",
        "#this doesnt work cos i left out the \"lets show some images\" thing from the tutorial but i accidentally\n",
        "#copied this in oops"
      ],
      "execution_count": 13,
      "outputs": []
    },
    {
      "cell_type": "code",
      "metadata": {
        "id": "zqCHBVKjVwEA",
        "colab": {
          "base_uri": "https://localhost:8080/"
        },
        "outputId": "37e925b6-8d86-422f-ebda-347bdda7fe99"
      },
      "source": [
        "_, predicted = torch.max(outputs, 1)\n",
        "\n",
        "print('Predicted: ', ' '.join('%5s' % classes[predicted[j]]\n",
        "                              for j in range(4)))"
      ],
      "execution_count": 9,
      "outputs": [
        {
          "output_type": "stream",
          "text": [
            "Predicted:  plane   dog  frog  ship\n"
          ],
          "name": "stdout"
        }
      ]
    },
    {
      "cell_type": "code",
      "metadata": {
        "id": "z8tMBTMPV0Zf",
        "colab": {
          "base_uri": "https://localhost:8080/"
        },
        "outputId": "ea3a7fc4-76a8-4e46-ff2c-7eefdddab334"
      },
      "source": [
        "correct = 0\n",
        "total = 0\n",
        "# since we're not training, we don't need to calculate the gradients for our outputs\n",
        "with torch.no_grad():\n",
        "    for data in testloader:\n",
        "        images, labels = data\n",
        "        # calculate outputs by running images through the network\n",
        "        outputs = net(images)\n",
        "        # the class with the highest energy is what we choose as prediction\n",
        "        _, predicted = torch.max(outputs.data, 1)\n",
        "        total += labels.size(0)\n",
        "        correct += (predicted == labels).sum().item()\n",
        "\n",
        "print('Accuracy of the network on the 10000 test images: %d %%' % (\n",
        "    100 * correct / total))"
      ],
      "execution_count": 10,
      "outputs": [
        {
          "output_type": "stream",
          "text": [
            "Accuracy of the network on the 10000 test images: 71 %\n"
          ],
          "name": "stdout"
        }
      ]
    },
    {
      "cell_type": "code",
      "metadata": {
        "id": "2-fiHoKSWG2K",
        "colab": {
          "base_uri": "https://localhost:8080/"
        },
        "outputId": "209d6398-5a5f-42b1-b77a-6733c91f369e"
      },
      "source": [
        "# prepare to count predictions for each class\n",
        "correct_pred = {classname: 0 for classname in classes}\n",
        "total_pred = {classname: 0 for classname in classes}\n",
        "\n",
        "# again no gradients needed\n",
        "with torch.no_grad():\n",
        "    for data in testloader:\n",
        "        images, labels = data\n",
        "        outputs = net(images)\n",
        "        _, predictions = torch.max(outputs, 1)\n",
        "        # collect the correct predictions for each class\n",
        "        for label, prediction in zip(labels, predictions):\n",
        "            if label == prediction:\n",
        "                correct_pred[classes[label]] += 1\n",
        "            total_pred[classes[label]] += 1\n",
        "\n",
        "\n",
        "# print accuracy for each class\n",
        "for classname, correct_count in correct_pred.items():\n",
        "    accuracy = 100 * float(correct_count) / total_pred[classname]\n",
        "    print(\"Accuracy for class {:5s} is: {:.1f} %\".format(classname,\n",
        "                                                   accuracy))"
      ],
      "execution_count": 11,
      "outputs": [
        {
          "output_type": "stream",
          "text": [
            "Accuracy for class plane is: 73.0 %\n",
            "Accuracy for class car   is: 81.9 %\n",
            "Accuracy for class bird  is: 66.0 %\n",
            "Accuracy for class cat   is: 50.3 %\n",
            "Accuracy for class deer  is: 66.4 %\n",
            "Accuracy for class dog   is: 64.0 %\n",
            "Accuracy for class frog  is: 79.3 %\n",
            "Accuracy for class horse is: 77.3 %\n",
            "Accuracy for class ship  is: 80.5 %\n",
            "Accuracy for class truck is: 79.4 %\n"
          ],
          "name": "stdout"
        }
      ]
    }
  ]
}