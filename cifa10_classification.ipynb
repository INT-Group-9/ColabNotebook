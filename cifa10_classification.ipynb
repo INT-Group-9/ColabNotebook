{
  "nbformat": 4,
  "nbformat_minor": 0,
  "metadata": {
    "colab": {
      "name": "cifa10_classification.ipynb",
      "provenance": [],
      "collapsed_sections": [],
      "include_colab_link": true
    },
    "kernelspec": {
      "name": "python3",
      "display_name": "Python 3"
    },
    "language_info": {
      "name": "python"
    },
    "accelerator": "GPU",
    "widgets": {
      "application/vnd.jupyter.widget-state+json": {
        "8298619729f44219beb1a65e4ec9ce1b": {
          "model_module": "@jupyter-widgets/controls",
          "model_name": "HBoxModel",
          "state": {
            "_view_name": "HBoxView",
            "_dom_classes": [],
            "_model_name": "HBoxModel",
            "_view_module": "@jupyter-widgets/controls",
            "_model_module_version": "1.5.0",
            "_view_count": null,
            "_view_module_version": "1.5.0",
            "box_style": "",
            "layout": "IPY_MODEL_ca1e566f5d794db78ef27f837cc1b299",
            "_model_module": "@jupyter-widgets/controls",
            "children": [
              "IPY_MODEL_f37419278d6e412b863332ddcbfe18a0",
              "IPY_MODEL_eaddf16b8e3544519d1c8af111a12d00"
            ]
          }
        },
        "ca1e566f5d794db78ef27f837cc1b299": {
          "model_module": "@jupyter-widgets/base",
          "model_name": "LayoutModel",
          "state": {
            "_view_name": "LayoutView",
            "grid_template_rows": null,
            "right": null,
            "justify_content": null,
            "_view_module": "@jupyter-widgets/base",
            "overflow": null,
            "_model_module_version": "1.2.0",
            "_view_count": null,
            "flex_flow": null,
            "width": null,
            "min_width": null,
            "border": null,
            "align_items": null,
            "bottom": null,
            "_model_module": "@jupyter-widgets/base",
            "top": null,
            "grid_column": null,
            "overflow_y": null,
            "overflow_x": null,
            "grid_auto_flow": null,
            "grid_area": null,
            "grid_template_columns": null,
            "flex": null,
            "_model_name": "LayoutModel",
            "justify_items": null,
            "grid_row": null,
            "max_height": null,
            "align_content": null,
            "visibility": null,
            "align_self": null,
            "height": null,
            "min_height": null,
            "padding": null,
            "grid_auto_rows": null,
            "grid_gap": null,
            "max_width": null,
            "order": null,
            "_view_module_version": "1.2.0",
            "grid_template_areas": null,
            "object_position": null,
            "object_fit": null,
            "grid_auto_columns": null,
            "margin": null,
            "display": null,
            "left": null
          }
        },
        "f37419278d6e412b863332ddcbfe18a0": {
          "model_module": "@jupyter-widgets/controls",
          "model_name": "FloatProgressModel",
          "state": {
            "_view_name": "ProgressView",
            "style": "IPY_MODEL_7d77c66aedcb4d4a9bf414e2100ffab5",
            "_dom_classes": [],
            "description": "100%",
            "_model_name": "FloatProgressModel",
            "bar_style": "success",
            "max": 782,
            "_view_module": "@jupyter-widgets/controls",
            "_model_module_version": "1.5.0",
            "value": 782,
            "_view_count": null,
            "_view_module_version": "1.5.0",
            "orientation": "horizontal",
            "min": 0,
            "description_tooltip": null,
            "_model_module": "@jupyter-widgets/controls",
            "layout": "IPY_MODEL_5553898de3574640925b59046bd35f11"
          }
        },
        "eaddf16b8e3544519d1c8af111a12d00": {
          "model_module": "@jupyter-widgets/controls",
          "model_name": "HTMLModel",
          "state": {
            "_view_name": "HTMLView",
            "style": "IPY_MODEL_2600a64769524d6aa259747b13a3cbe1",
            "_dom_classes": [],
            "description": "",
            "_model_name": "HTMLModel",
            "placeholder": "​",
            "_view_module": "@jupyter-widgets/controls",
            "_model_module_version": "1.5.0",
            "value": " 782/782 [00:26&lt;00:00, 29.83it/s]",
            "_view_count": null,
            "_view_module_version": "1.5.0",
            "description_tooltip": null,
            "_model_module": "@jupyter-widgets/controls",
            "layout": "IPY_MODEL_ba1ba60e3e3f45c09b3db1a9fa6ad696"
          }
        },
        "7d77c66aedcb4d4a9bf414e2100ffab5": {
          "model_module": "@jupyter-widgets/controls",
          "model_name": "ProgressStyleModel",
          "state": {
            "_view_name": "StyleView",
            "_model_name": "ProgressStyleModel",
            "description_width": "initial",
            "_view_module": "@jupyter-widgets/base",
            "_model_module_version": "1.5.0",
            "_view_count": null,
            "_view_module_version": "1.2.0",
            "bar_color": null,
            "_model_module": "@jupyter-widgets/controls"
          }
        },
        "5553898de3574640925b59046bd35f11": {
          "model_module": "@jupyter-widgets/base",
          "model_name": "LayoutModel",
          "state": {
            "_view_name": "LayoutView",
            "grid_template_rows": null,
            "right": null,
            "justify_content": null,
            "_view_module": "@jupyter-widgets/base",
            "overflow": null,
            "_model_module_version": "1.2.0",
            "_view_count": null,
            "flex_flow": null,
            "width": null,
            "min_width": null,
            "border": null,
            "align_items": null,
            "bottom": null,
            "_model_module": "@jupyter-widgets/base",
            "top": null,
            "grid_column": null,
            "overflow_y": null,
            "overflow_x": null,
            "grid_auto_flow": null,
            "grid_area": null,
            "grid_template_columns": null,
            "flex": null,
            "_model_name": "LayoutModel",
            "justify_items": null,
            "grid_row": null,
            "max_height": null,
            "align_content": null,
            "visibility": null,
            "align_self": null,
            "height": null,
            "min_height": null,
            "padding": null,
            "grid_auto_rows": null,
            "grid_gap": null,
            "max_width": null,
            "order": null,
            "_view_module_version": "1.2.0",
            "grid_template_areas": null,
            "object_position": null,
            "object_fit": null,
            "grid_auto_columns": null,
            "margin": null,
            "display": null,
            "left": null
          }
        },
        "2600a64769524d6aa259747b13a3cbe1": {
          "model_module": "@jupyter-widgets/controls",
          "model_name": "DescriptionStyleModel",
          "state": {
            "_view_name": "StyleView",
            "_model_name": "DescriptionStyleModel",
            "description_width": "",
            "_view_module": "@jupyter-widgets/base",
            "_model_module_version": "1.5.0",
            "_view_count": null,
            "_view_module_version": "1.2.0",
            "_model_module": "@jupyter-widgets/controls"
          }
        },
        "ba1ba60e3e3f45c09b3db1a9fa6ad696": {
          "model_module": "@jupyter-widgets/base",
          "model_name": "LayoutModel",
          "state": {
            "_view_name": "LayoutView",
            "grid_template_rows": null,
            "right": null,
            "justify_content": null,
            "_view_module": "@jupyter-widgets/base",
            "overflow": null,
            "_model_module_version": "1.2.0",
            "_view_count": null,
            "flex_flow": null,
            "width": null,
            "min_width": null,
            "border": null,
            "align_items": null,
            "bottom": null,
            "_model_module": "@jupyter-widgets/base",
            "top": null,
            "grid_column": null,
            "overflow_y": null,
            "overflow_x": null,
            "grid_auto_flow": null,
            "grid_area": null,
            "grid_template_columns": null,
            "flex": null,
            "_model_name": "LayoutModel",
            "justify_items": null,
            "grid_row": null,
            "max_height": null,
            "align_content": null,
            "visibility": null,
            "align_self": null,
            "height": null,
            "min_height": null,
            "padding": null,
            "grid_auto_rows": null,
            "grid_gap": null,
            "max_width": null,
            "order": null,
            "_view_module_version": "1.2.0",
            "grid_template_areas": null,
            "object_position": null,
            "object_fit": null,
            "grid_auto_columns": null,
            "margin": null,
            "display": null,
            "left": null
          }
        },
        "8363c0d511ef4dfaa0871772cc445342": {
          "model_module": "@jupyter-widgets/controls",
          "model_name": "HBoxModel",
          "state": {
            "_view_name": "HBoxView",
            "_dom_classes": [],
            "_model_name": "HBoxModel",
            "_view_module": "@jupyter-widgets/controls",
            "_model_module_version": "1.5.0",
            "_view_count": null,
            "_view_module_version": "1.5.0",
            "box_style": "",
            "layout": "IPY_MODEL_e864acf1359c4db091e1fcc9c2319078",
            "_model_module": "@jupyter-widgets/controls",
            "children": [
              "IPY_MODEL_21649409ea2e47d7ba3306d1d5e7eaa4",
              "IPY_MODEL_5b1333ec7e2b4a6ab4a508dbda1a2c31"
            ]
          }
        },
        "e864acf1359c4db091e1fcc9c2319078": {
          "model_module": "@jupyter-widgets/base",
          "model_name": "LayoutModel",
          "state": {
            "_view_name": "LayoutView",
            "grid_template_rows": null,
            "right": null,
            "justify_content": null,
            "_view_module": "@jupyter-widgets/base",
            "overflow": null,
            "_model_module_version": "1.2.0",
            "_view_count": null,
            "flex_flow": null,
            "width": null,
            "min_width": null,
            "border": null,
            "align_items": null,
            "bottom": null,
            "_model_module": "@jupyter-widgets/base",
            "top": null,
            "grid_column": null,
            "overflow_y": null,
            "overflow_x": null,
            "grid_auto_flow": null,
            "grid_area": null,
            "grid_template_columns": null,
            "flex": null,
            "_model_name": "LayoutModel",
            "justify_items": null,
            "grid_row": null,
            "max_height": null,
            "align_content": null,
            "visibility": null,
            "align_self": null,
            "height": null,
            "min_height": null,
            "padding": null,
            "grid_auto_rows": null,
            "grid_gap": null,
            "max_width": null,
            "order": null,
            "_view_module_version": "1.2.0",
            "grid_template_areas": null,
            "object_position": null,
            "object_fit": null,
            "grid_auto_columns": null,
            "margin": null,
            "display": null,
            "left": null
          }
        },
        "21649409ea2e47d7ba3306d1d5e7eaa4": {
          "model_module": "@jupyter-widgets/controls",
          "model_name": "FloatProgressModel",
          "state": {
            "_view_name": "ProgressView",
            "style": "IPY_MODEL_fa6812432c534b669e808bad75eae3e1",
            "_dom_classes": [],
            "description": "100%",
            "_model_name": "FloatProgressModel",
            "bar_style": "success",
            "max": 782,
            "_view_module": "@jupyter-widgets/controls",
            "_model_module_version": "1.5.0",
            "value": 782,
            "_view_count": null,
            "_view_module_version": "1.5.0",
            "orientation": "horizontal",
            "min": 0,
            "description_tooltip": null,
            "_model_module": "@jupyter-widgets/controls",
            "layout": "IPY_MODEL_da604001279e4bf3a30fd640b832a7d8"
          }
        },
        "5b1333ec7e2b4a6ab4a508dbda1a2c31": {
          "model_module": "@jupyter-widgets/controls",
          "model_name": "HTMLModel",
          "state": {
            "_view_name": "HTMLView",
            "style": "IPY_MODEL_6d2b5a9ae68a4a53a374b134f5f0cc08",
            "_dom_classes": [],
            "description": "",
            "_model_name": "HTMLModel",
            "placeholder": "​",
            "_view_module": "@jupyter-widgets/controls",
            "_model_module_version": "1.5.0",
            "value": " 782/782 [00:52&lt;00:00, 14.86it/s]",
            "_view_count": null,
            "_view_module_version": "1.5.0",
            "description_tooltip": null,
            "_model_module": "@jupyter-widgets/controls",
            "layout": "IPY_MODEL_045215fa2dd04564ab9f511a55b99373"
          }
        },
        "fa6812432c534b669e808bad75eae3e1": {
          "model_module": "@jupyter-widgets/controls",
          "model_name": "ProgressStyleModel",
          "state": {
            "_view_name": "StyleView",
            "_model_name": "ProgressStyleModel",
            "description_width": "initial",
            "_view_module": "@jupyter-widgets/base",
            "_model_module_version": "1.5.0",
            "_view_count": null,
            "_view_module_version": "1.2.0",
            "bar_color": null,
            "_model_module": "@jupyter-widgets/controls"
          }
        },
        "da604001279e4bf3a30fd640b832a7d8": {
          "model_module": "@jupyter-widgets/base",
          "model_name": "LayoutModel",
          "state": {
            "_view_name": "LayoutView",
            "grid_template_rows": null,
            "right": null,
            "justify_content": null,
            "_view_module": "@jupyter-widgets/base",
            "overflow": null,
            "_model_module_version": "1.2.0",
            "_view_count": null,
            "flex_flow": null,
            "width": null,
            "min_width": null,
            "border": null,
            "align_items": null,
            "bottom": null,
            "_model_module": "@jupyter-widgets/base",
            "top": null,
            "grid_column": null,
            "overflow_y": null,
            "overflow_x": null,
            "grid_auto_flow": null,
            "grid_area": null,
            "grid_template_columns": null,
            "flex": null,
            "_model_name": "LayoutModel",
            "justify_items": null,
            "grid_row": null,
            "max_height": null,
            "align_content": null,
            "visibility": null,
            "align_self": null,
            "height": null,
            "min_height": null,
            "padding": null,
            "grid_auto_rows": null,
            "grid_gap": null,
            "max_width": null,
            "order": null,
            "_view_module_version": "1.2.0",
            "grid_template_areas": null,
            "object_position": null,
            "object_fit": null,
            "grid_auto_columns": null,
            "margin": null,
            "display": null,
            "left": null
          }
        },
        "6d2b5a9ae68a4a53a374b134f5f0cc08": {
          "model_module": "@jupyter-widgets/controls",
          "model_name": "DescriptionStyleModel",
          "state": {
            "_view_name": "StyleView",
            "_model_name": "DescriptionStyleModel",
            "description_width": "",
            "_view_module": "@jupyter-widgets/base",
            "_model_module_version": "1.5.0",
            "_view_count": null,
            "_view_module_version": "1.2.0",
            "_model_module": "@jupyter-widgets/controls"
          }
        },
        "045215fa2dd04564ab9f511a55b99373": {
          "model_module": "@jupyter-widgets/base",
          "model_name": "LayoutModel",
          "state": {
            "_view_name": "LayoutView",
            "grid_template_rows": null,
            "right": null,
            "justify_content": null,
            "_view_module": "@jupyter-widgets/base",
            "overflow": null,
            "_model_module_version": "1.2.0",
            "_view_count": null,
            "flex_flow": null,
            "width": null,
            "min_width": null,
            "border": null,
            "align_items": null,
            "bottom": null,
            "_model_module": "@jupyter-widgets/base",
            "top": null,
            "grid_column": null,
            "overflow_y": null,
            "overflow_x": null,
            "grid_auto_flow": null,
            "grid_area": null,
            "grid_template_columns": null,
            "flex": null,
            "_model_name": "LayoutModel",
            "justify_items": null,
            "grid_row": null,
            "max_height": null,
            "align_content": null,
            "visibility": null,
            "align_self": null,
            "height": null,
            "min_height": null,
            "padding": null,
            "grid_auto_rows": null,
            "grid_gap": null,
            "max_width": null,
            "order": null,
            "_view_module_version": "1.2.0",
            "grid_template_areas": null,
            "object_position": null,
            "object_fit": null,
            "grid_auto_columns": null,
            "margin": null,
            "display": null,
            "left": null
          }
        },
        "de514eedc4e44cd588b30394a5935511": {
          "model_module": "@jupyter-widgets/controls",
          "model_name": "HBoxModel",
          "state": {
            "_view_name": "HBoxView",
            "_dom_classes": [],
            "_model_name": "HBoxModel",
            "_view_module": "@jupyter-widgets/controls",
            "_model_module_version": "1.5.0",
            "_view_count": null,
            "_view_module_version": "1.5.0",
            "box_style": "",
            "layout": "IPY_MODEL_5f579599c4eb4e138986efc101b402da",
            "_model_module": "@jupyter-widgets/controls",
            "children": [
              "IPY_MODEL_fba692c4e8d64fbbb71d125c937158b4",
              "IPY_MODEL_b8498f8be3ff4830a18f89a194897655"
            ]
          }
        },
        "5f579599c4eb4e138986efc101b402da": {
          "model_module": "@jupyter-widgets/base",
          "model_name": "LayoutModel",
          "state": {
            "_view_name": "LayoutView",
            "grid_template_rows": null,
            "right": null,
            "justify_content": null,
            "_view_module": "@jupyter-widgets/base",
            "overflow": null,
            "_model_module_version": "1.2.0",
            "_view_count": null,
            "flex_flow": null,
            "width": null,
            "min_width": null,
            "border": null,
            "align_items": null,
            "bottom": null,
            "_model_module": "@jupyter-widgets/base",
            "top": null,
            "grid_column": null,
            "overflow_y": null,
            "overflow_x": null,
            "grid_auto_flow": null,
            "grid_area": null,
            "grid_template_columns": null,
            "flex": null,
            "_model_name": "LayoutModel",
            "justify_items": null,
            "grid_row": null,
            "max_height": null,
            "align_content": null,
            "visibility": null,
            "align_self": null,
            "height": null,
            "min_height": null,
            "padding": null,
            "grid_auto_rows": null,
            "grid_gap": null,
            "max_width": null,
            "order": null,
            "_view_module_version": "1.2.0",
            "grid_template_areas": null,
            "object_position": null,
            "object_fit": null,
            "grid_auto_columns": null,
            "margin": null,
            "display": null,
            "left": null
          }
        },
        "fba692c4e8d64fbbb71d125c937158b4": {
          "model_module": "@jupyter-widgets/controls",
          "model_name": "FloatProgressModel",
          "state": {
            "_view_name": "ProgressView",
            "style": "IPY_MODEL_767c9008247d4e088836643b007df98d",
            "_dom_classes": [],
            "description": "100%",
            "_model_name": "FloatProgressModel",
            "bar_style": "success",
            "max": 782,
            "_view_module": "@jupyter-widgets/controls",
            "_model_module_version": "1.5.0",
            "value": 782,
            "_view_count": null,
            "_view_module_version": "1.5.0",
            "orientation": "horizontal",
            "min": 0,
            "description_tooltip": null,
            "_model_module": "@jupyter-widgets/controls",
            "layout": "IPY_MODEL_99c5730dbd504437a4f77f1872b289a9"
          }
        },
        "b8498f8be3ff4830a18f89a194897655": {
          "model_module": "@jupyter-widgets/controls",
          "model_name": "HTMLModel",
          "state": {
            "_view_name": "HTMLView",
            "style": "IPY_MODEL_d37c85729591480285c21cd2cf089445",
            "_dom_classes": [],
            "description": "",
            "_model_name": "HTMLModel",
            "placeholder": "​",
            "_view_module": "@jupyter-widgets/controls",
            "_model_module_version": "1.5.0",
            "value": " 782/782 [00:26&lt;00:00, 29.59it/s]",
            "_view_count": null,
            "_view_module_version": "1.5.0",
            "description_tooltip": null,
            "_model_module": "@jupyter-widgets/controls",
            "layout": "IPY_MODEL_8cb6bdc8bc2c4f39aa88cfcf63650810"
          }
        },
        "767c9008247d4e088836643b007df98d": {
          "model_module": "@jupyter-widgets/controls",
          "model_name": "ProgressStyleModel",
          "state": {
            "_view_name": "StyleView",
            "_model_name": "ProgressStyleModel",
            "description_width": "initial",
            "_view_module": "@jupyter-widgets/base",
            "_model_module_version": "1.5.0",
            "_view_count": null,
            "_view_module_version": "1.2.0",
            "bar_color": null,
            "_model_module": "@jupyter-widgets/controls"
          }
        },
        "99c5730dbd504437a4f77f1872b289a9": {
          "model_module": "@jupyter-widgets/base",
          "model_name": "LayoutModel",
          "state": {
            "_view_name": "LayoutView",
            "grid_template_rows": null,
            "right": null,
            "justify_content": null,
            "_view_module": "@jupyter-widgets/base",
            "overflow": null,
            "_model_module_version": "1.2.0",
            "_view_count": null,
            "flex_flow": null,
            "width": null,
            "min_width": null,
            "border": null,
            "align_items": null,
            "bottom": null,
            "_model_module": "@jupyter-widgets/base",
            "top": null,
            "grid_column": null,
            "overflow_y": null,
            "overflow_x": null,
            "grid_auto_flow": null,
            "grid_area": null,
            "grid_template_columns": null,
            "flex": null,
            "_model_name": "LayoutModel",
            "justify_items": null,
            "grid_row": null,
            "max_height": null,
            "align_content": null,
            "visibility": null,
            "align_self": null,
            "height": null,
            "min_height": null,
            "padding": null,
            "grid_auto_rows": null,
            "grid_gap": null,
            "max_width": null,
            "order": null,
            "_view_module_version": "1.2.0",
            "grid_template_areas": null,
            "object_position": null,
            "object_fit": null,
            "grid_auto_columns": null,
            "margin": null,
            "display": null,
            "left": null
          }
        },
        "d37c85729591480285c21cd2cf089445": {
          "model_module": "@jupyter-widgets/controls",
          "model_name": "DescriptionStyleModel",
          "state": {
            "_view_name": "StyleView",
            "_model_name": "DescriptionStyleModel",
            "description_width": "",
            "_view_module": "@jupyter-widgets/base",
            "_model_module_version": "1.5.0",
            "_view_count": null,
            "_view_module_version": "1.2.0",
            "_model_module": "@jupyter-widgets/controls"
          }
        },
        "8cb6bdc8bc2c4f39aa88cfcf63650810": {
          "model_module": "@jupyter-widgets/base",
          "model_name": "LayoutModel",
          "state": {
            "_view_name": "LayoutView",
            "grid_template_rows": null,
            "right": null,
            "justify_content": null,
            "_view_module": "@jupyter-widgets/base",
            "overflow": null,
            "_model_module_version": "1.2.0",
            "_view_count": null,
            "flex_flow": null,
            "width": null,
            "min_width": null,
            "border": null,
            "align_items": null,
            "bottom": null,
            "_model_module": "@jupyter-widgets/base",
            "top": null,
            "grid_column": null,
            "overflow_y": null,
            "overflow_x": null,
            "grid_auto_flow": null,
            "grid_area": null,
            "grid_template_columns": null,
            "flex": null,
            "_model_name": "LayoutModel",
            "justify_items": null,
            "grid_row": null,
            "max_height": null,
            "align_content": null,
            "visibility": null,
            "align_self": null,
            "height": null,
            "min_height": null,
            "padding": null,
            "grid_auto_rows": null,
            "grid_gap": null,
            "max_width": null,
            "order": null,
            "_view_module_version": "1.2.0",
            "grid_template_areas": null,
            "object_position": null,
            "object_fit": null,
            "grid_auto_columns": null,
            "margin": null,
            "display": null,
            "left": null
          }
        }
      }
    }
  },
  "cells": [
    {
      "cell_type": "markdown",
      "metadata": {
        "id": "view-in-github",
        "colab_type": "text"
      },
      "source": [
        "<a href=\"https://colab.research.google.com/github/INT-Group-9/ColabNotebook/blob/Jake/cifa10_classification.ipynb\" target=\"_parent\"><img src=\"https://colab.research.google.com/assets/colab-badge.svg\" alt=\"Open In Colab\"/></a>"
      ]
    },
    {
      "cell_type": "code",
      "metadata": {
        "id": "__KeS8XRo0k1"
      },
      "source": [
        "import torch\n",
        "import torchvision\n",
        "import numpy as np\n",
        "import matplotlib.pyplot as plt\n",
        "import torch.nn as nn\n",
        "import torch.nn.functional as F\n",
        "from torchvision import datasets, transforms\n",
        "\n",
        "classes = ('plane', 'car', 'bird', 'cat',\n",
        "           'deer', 'dog', 'frog', 'horse', 'ship', 'truck')"
      ],
      "execution_count": 114,
      "outputs": []
    },
    {
      "cell_type": "code",
      "metadata": {
        "id": "LUZmKN1N8TNe",
        "colab": {
          "base_uri": "https://localhost:8080/"
        },
        "outputId": "625ddb72-b52b-4b74-9d78-4a7ff3012b72"
      },
      "source": [
        "trainSet = datasets.CIFAR10(\"./data\", train=True, download = True,\n",
        "                         transform = transforms.Compose([\n",
        "                            transforms.RandomHorizontalFlip(),\n",
        "                            transforms.RandomCrop(32, padding=4),\n",
        "                            transforms.ToTensor()]))\n",
        "\n",
        "testSet = datasets.CIFAR10(\"./data\", train=False, download=True,\n",
        "                         transform = transforms.Compose([transforms.ToTensor()]))"
      ],
      "execution_count": 115,
      "outputs": [
        {
          "output_type": "stream",
          "text": [
            "Files already downloaded and verified\n",
            "Files already downloaded and verified\n"
          ],
          "name": "stdout"
        }
      ]
    },
    {
      "cell_type": "code",
      "metadata": {
        "id": "T-ALlfXz8VA5"
      },
      "source": [
        "trainLoader = torch.utils.data.DataLoader(trainSet, batch_size=64, shuffle=True)\n",
        "testLoader = torch.utils.data.DataLoader(testSet, batch_size=64, shuffle=True)"
      ],
      "execution_count": 116,
      "outputs": []
    },
    {
      "cell_type": "code",
      "metadata": {
        "id": "OwzVDJxN8ZXO"
      },
      "source": [
        "# class Net(nn.Module):\n",
        "\n",
        "#   def __init__(self):\n",
        "#     super().__init__()\n",
        "#     self.conv1 = nn.Conv2d(in_channels=3, out_channels=24, kernel_size=3, stride = 1)\n",
        "#     self.pool = nn.MaxPool2d(2, 2)\n",
        "#     self.conv2 = nn.Conv2d(in_channels=24, out_channels=32, kernel_size=3, stride = 1, padding=1)\n",
        "\n",
        "#     self.conv3 = nn.Conv2d(in_channels=32, out_channels=16, kernel_size=3, stride = 1)\n",
        "#     # self.conv4 = nn.Conv2d(in_channels=16, out_channels=16, kernel_size=5, stride = 1)\n",
        "\n",
        "#     self.fc1 = nn.Linear(in_features = 16*5*5, out_features=120)\n",
        "#     self.fc2 = nn.Linear(in_features = 120, out_features=10)\n",
        "#     # self.fc3 = nn.Linear(in_features = 120, out_features=10)\n",
        "  \n",
        "#   def forward(self, input):\n",
        "#     output = self.pool(F.relu(self.conv1(input)))\n",
        "#     # print(output.shape)\n",
        "#     output = self.pool(F.relu(self.conv2(output)))\n",
        "#     output = F.relu(self.conv3(output))\n",
        "#     # print(output.shape)\n",
        "#     # output = self.pool(F.relu(self.conv4(output)))\n",
        "#     # print(output.shape)\n",
        "#     output = output.view(-1, 16 * 5 * 5)\n",
        "\n",
        "#     output = F.relu(self.fc1(output))\n",
        "#     output = self.fc2(output)\n",
        "\n",
        "\n",
        "#     # return F.log_softmax(output, dim=1)\n",
        "#     return output\n",
        "    \n",
        "# net = Net().cuda()\n"
      ],
      "execution_count": 117,
      "outputs": []
    },
    {
      "cell_type": "code",
      "metadata": {
        "id": "qim3d3d1I3rT"
      },
      "source": [
        "# class Net(nn.Module):\n",
        "\n",
        "#   def __init__(self):\n",
        "#     super().__init__()\n",
        "#     self.conv1 = nn.Conv2d(in_channels=3, out_channels=32, kernel_size=3, padding=1)\n",
        "#     self.conv2 = nn.Conv2d(in_channels=32, out_channels=32, kernel_size=3)\n",
        "#     self.conv3 = nn.Conv2d(in_channels=32, out_channels=64, kernel_size=3)\n",
        "#     self.conv4 = nn.Conv2d(in_channels=64, out_channels=64, kernel_size=3)\n",
        "\n",
        "#     self.fc1 = nn.Linear(in_features = 64*5*5, out_features=512)\n",
        "#     self.fc2 = nn.Linear(in_features = 512, out_features=128)\n",
        "#     self.fc3 = nn.Linear(in_features = 128, out_features=32)\n",
        "#     self.fc4 = nn.Linear(in_features = 32, out_features=10)\n",
        "#     self.fc5 = nn.Linear(in_features = 10, out_features=10)\n",
        "\n",
        "#     self.pool = nn.MaxPool2d(2, 2)\n",
        "\n",
        "#   def forward(self, input):\n",
        "#     output = F.relu(self.conv1(input))\n",
        "#     output = F.relu(self.conv2(output))\n",
        "#     output = self.pool(output)\n",
        "#     output = F.relu(self.conv3(output))\n",
        "#     output = F.relu(self.conv4(output))\n",
        "#     output = self.pool(output)\n",
        "#     output = output.view(-1, 5 * 5 * 64)\n",
        "\n",
        "#     output = F.relu(self.fc1(output))\n",
        "#     output = F.relu(self.fc2(output))\n",
        "#     output = F.relu(self.fc3(output))\n",
        "#     output = F.relu(self.fc4(output))\n",
        "#     output = self.fc5(output)\n",
        "\n",
        "#     return F.softmax(output, dim=1)\n",
        "#     # return output\n",
        "    \n",
        "# net = Net().cuda()\n"
      ],
      "execution_count": 118,
      "outputs": []
    },
    {
      "cell_type": "code",
      "metadata": {
        "id": "9dM-qidwpgT3"
      },
      "source": [
        "class Net(nn.Module):\n",
        "\n",
        "  def __init__(self):\n",
        "    super().__init__()\n",
        "    self.conv1 = nn.Conv2d(in_channels=3, out_channels=32, kernel_size=3, padding=1)\n",
        "    self.conv2 = nn.Conv2d(in_channels=32, out_channels=64, kernel_size=3, padding=1)\n",
        "    self.batch1 = nn.BatchNorm2d(32)\n",
        "\n",
        "    self.conv3 = nn.Conv2d(in_channels=64, out_channels=128, kernel_size=3, padding=1)\n",
        "    self.conv4 = nn.Conv2d(in_channels=128, out_channels=128, kernel_size=3, padding=1)\n",
        "    self.batch2 = nn.BatchNorm2d(128)\n",
        "\n",
        "    self.conv5 = nn.Conv2d(in_channels=128, out_channels=256, kernel_size=3, padding=1)\n",
        "    self.conv6 = nn.Conv2d(in_channels=256, out_channels=256, kernel_size=3, padding=1)\n",
        "    self.batch3 = nn.BatchNorm2d(256)\n",
        "\n",
        "\n",
        "    self.fc1 = nn.Linear(in_features = 256 * 4 * 4, out_features=1024)\n",
        "    self.fc2 = nn.Linear(in_features = 1024, out_features=512)\n",
        "    self.fc3 = nn.Linear(in_features = 512, out_features=10)\n",
        "    self.dropout1 = nn.Dropout(p=0.1)\n",
        "    self.dropout2 = nn.Dropout(p=0.05)\n",
        "\n",
        "    self.pool = nn.MaxPool2d(2, 2)\n",
        "\n",
        "  def forward(self, input):\n",
        "    output = self.conv1(input)\n",
        "    output = self.batch1(output)\n",
        "    output = F.relu(output)\n",
        "    output = F.relu(self.conv2(output))\n",
        "    output = self.pool(output)\n",
        "\n",
        "    output = self.conv3(output)\n",
        "    output = self.batch2(output)\n",
        "    output = F.relu(output)\n",
        "    output = F.relu(self.conv4(output))\n",
        "    output = self.pool(output)\n",
        "    output = self.dropout2(output)\n",
        "\n",
        "    output = self.conv5(output)\n",
        "    output = self.batch3(output)\n",
        "    output = F.relu(output)\n",
        "    output = F.relu(self.conv6(output))\n",
        "    output = self.pool(output)\n",
        "\n",
        "    # output = output.view(-1, 256 * 4 * 4)\n",
        "    output = output.view(output.size(0), -1)\n",
        "\n",
        "    output = self.dropout1(output)\n",
        "    output = F.relu(self.fc1(output))\n",
        "    output = F.relu(self.fc2(output))\n",
        "    output = self.dropout1(output)\n",
        "    output = self.fc3(output)\n",
        "    # output = F.relu(self.fc4(output))\n",
        "    # output = self.fc5(output)\n",
        "\n",
        "    # return F.softmax(output, dim=1)\n",
        "    return output\n",
        "    \n",
        "net = Net().cuda()\n"
      ],
      "execution_count": 119,
      "outputs": []
    },
    {
      "cell_type": "code",
      "metadata": {
        "id": "-2IXOJNr9i8_"
      },
      "source": [
        "import torch.optim as optim\n",
        "\n",
        "criterion = nn.CrossEntropyLoss()\n",
        "# criterion = nn.L1Loss()\n",
        "# criterion = nn.PoissonNLLLoss()\n",
        "# criterion = nn.NLLLoss()\n",
        "optimizer = optim.SGD(net.parameters(), lr=0.005, momentum=0.9)\n",
        "# optimizer = optim.Adam(net.parameters(), lr=0.001)"
      ],
      "execution_count": 120,
      "outputs": []
    },
    {
      "cell_type": "code",
      "metadata": {
        "id": "oLqK-H1bPKmw",
        "colab": {
          "base_uri": "https://localhost:8080/",
          "height": 244,
          "referenced_widgets": [
            "8298619729f44219beb1a65e4ec9ce1b",
            "ca1e566f5d794db78ef27f837cc1b299",
            "f37419278d6e412b863332ddcbfe18a0",
            "eaddf16b8e3544519d1c8af111a12d00",
            "7d77c66aedcb4d4a9bf414e2100ffab5",
            "5553898de3574640925b59046bd35f11",
            "2600a64769524d6aa259747b13a3cbe1",
            "ba1ba60e3e3f45c09b3db1a9fa6ad696",
            "8363c0d511ef4dfaa0871772cc445342",
            "e864acf1359c4db091e1fcc9c2319078",
            "21649409ea2e47d7ba3306d1d5e7eaa4",
            "5b1333ec7e2b4a6ab4a508dbda1a2c31",
            "fa6812432c534b669e808bad75eae3e1",
            "da604001279e4bf3a30fd640b832a7d8",
            "6d2b5a9ae68a4a53a374b134f5f0cc08",
            "045215fa2dd04564ab9f511a55b99373",
            "de514eedc4e44cd588b30394a5935511",
            "5f579599c4eb4e138986efc101b402da",
            "fba692c4e8d64fbbb71d125c937158b4",
            "b8498f8be3ff4830a18f89a194897655",
            "767c9008247d4e088836643b007df98d",
            "99c5730dbd504437a4f77f1872b289a9",
            "d37c85729591480285c21cd2cf089445",
            "8cb6bdc8bc2c4f39aa88cfcf63650810"
          ]
        },
        "outputId": "66f27a9d-6cfb-4667-fb73-ca867fbe2166"
      },
      "source": [
        "import tqdm\n",
        "\n",
        "for epoch in range(3):  # loop over the dataset multiple times\n",
        "\n",
        "    print(\"epoch\", epoch + 1)\n",
        "    running_loss = 0.0\n",
        "    for i, data in enumerate(tqdm.notebook.tqdm(trainLoader), 0):\n",
        "        # get the inputs; data is a list of [inputs, labels]\n",
        "        inputs, labels = data\n",
        "        inputs, labels = inputs.cuda(), labels.cuda()\n",
        "        # zero the parameter gradients\n",
        "        optimizer.zero_grad()\n",
        "\n",
        "        # forward + backward + optimize\n",
        "        outputs = net(inputs)\n",
        "        loss = criterion(outputs, labels)\n",
        "        loss.backward()\n",
        "        optimizer.step()\n",
        "\n",
        "        # print statistics\n",
        "        #running_loss += loss.item()\n",
        "        # running_loss /= len(trainLoader)\n",
        "        #if i % 50 == 0:    # print every 2000 mini-batches\n",
        "        #    print('[%d, %5d] loss: %.3f' %\n",
        "        #          (epoch + 1, i + 1, running_loss / 2000))\n",
        "        #running_loss = 0.0\n",
        "\n",
        "print('Finished Training')"
      ],
      "execution_count": 121,
      "outputs": [
        {
          "output_type": "stream",
          "text": [
            "epoch 1\n"
          ],
          "name": "stdout"
        },
        {
          "output_type": "display_data",
          "data": {
            "application/vnd.jupyter.widget-view+json": {
              "model_id": "8298619729f44219beb1a65e4ec9ce1b",
              "version_minor": 0,
              "version_major": 2
            },
            "text/plain": [
              "HBox(children=(FloatProgress(value=0.0, max=782.0), HTML(value='')))"
            ]
          },
          "metadata": {
            "tags": []
          }
        },
        {
          "output_type": "stream",
          "text": [
            "\n",
            "epoch 2\n"
          ],
          "name": "stdout"
        },
        {
          "output_type": "display_data",
          "data": {
            "application/vnd.jupyter.widget-view+json": {
              "model_id": "8363c0d511ef4dfaa0871772cc445342",
              "version_minor": 0,
              "version_major": 2
            },
            "text/plain": [
              "HBox(children=(FloatProgress(value=0.0, max=782.0), HTML(value='')))"
            ]
          },
          "metadata": {
            "tags": []
          }
        },
        {
          "output_type": "stream",
          "text": [
            "\n",
            "epoch 3\n"
          ],
          "name": "stdout"
        },
        {
          "output_type": "display_data",
          "data": {
            "application/vnd.jupyter.widget-view+json": {
              "model_id": "de514eedc4e44cd588b30394a5935511",
              "version_minor": 0,
              "version_major": 2
            },
            "text/plain": [
              "HBox(children=(FloatProgress(value=0.0, max=782.0), HTML(value='')))"
            ]
          },
          "metadata": {
            "tags": []
          }
        },
        {
          "output_type": "stream",
          "text": [
            "\n",
            "Finished Training\n"
          ],
          "name": "stdout"
        }
      ]
    },
    {
      "cell_type": "code",
      "metadata": {
        "id": "qPzl1e7pMcdi"
      },
      "source": [
        "PATH = './cifar_net.pth'\n",
        "torch.save(net.state_dict(), PATH)"
      ],
      "execution_count": 122,
      "outputs": []
    },
    {
      "cell_type": "code",
      "metadata": {
        "id": "rbv3RyMTMfPC",
        "colab": {
          "base_uri": "https://localhost:8080/"
        },
        "outputId": "ba4b2aeb-e7b1-4032-cec6-9e4430d416f6"
      },
      "source": [
        "dataiter = iter(testLoader)\n",
        "images, labels = dataiter.next()\n",
        "images = images.cuda()\n",
        "labels = labels.cuda()\n",
        "\n",
        "# print images\n",
        "# plt.imshow(torchvision.utils.make_grid(images))\n",
        "print('GroundTruth: ', ' '.join('%5s' % classes[labels[j]] for j in range(4)))"
      ],
      "execution_count": 123,
      "outputs": [
        {
          "output_type": "stream",
          "text": [
            "GroundTruth:   frog  frog  ship truck\n"
          ],
          "name": "stdout"
        }
      ]
    },
    {
      "cell_type": "code",
      "metadata": {
        "id": "10u4PCJOTb4f",
        "colab": {
          "base_uri": "https://localhost:8080/"
        },
        "outputId": "a5c0fc36-4bd0-42a2-a813-30ef131a5c62"
      },
      "source": [
        "net = Net().cuda()\n",
        "net.load_state_dict(torch.load(PATH))\n",
        "outputs = net(images)\n",
        "\n",
        "_, predicted = torch.max(outputs, 1)\n",
        "\n",
        "print('Predicted: ', ' '.join('%5s' % classes[predicted[j]]\n",
        "                              for j in range(4)))"
      ],
      "execution_count": 124,
      "outputs": [
        {
          "output_type": "stream",
          "text": [
            "Predicted:   frog  frog  ship truck\n"
          ],
          "name": "stdout"
        }
      ]
    },
    {
      "cell_type": "code",
      "metadata": {
        "id": "aHQnqz2FTmJW",
        "colab": {
          "base_uri": "https://localhost:8080/"
        },
        "outputId": "bb8cb3e0-f37b-4046-c405-58736fbed1a4"
      },
      "source": [
        "correct = 0\n",
        "total = 0\n",
        "# since we're not training, we don't need to calculate the gradients for our outputs\n",
        "with torch.no_grad():\n",
        "    for data in testLoader:\n",
        "        images, labels = data\n",
        "        images = images.cuda()\n",
        "        labels = labels.cuda()\n",
        "        # calculate outputs by running images through the network\n",
        "        outputs = net(images)\n",
        "        # the class with the highest energy is what we choose as prediction\n",
        "        _, predicted = torch.max(outputs.data, 1)\n",
        "        total += labels.size(0)\n",
        "        correct += (predicted == labels).sum().item()\n",
        "\n",
        "print('Accuracy of the network on the 10000 test images: %d %%' % (\n",
        "    100 * correct / total))"
      ],
      "execution_count": 125,
      "outputs": [
        {
          "output_type": "stream",
          "text": [
            "Accuracy of the network on the 10000 test images: 73 %\n"
          ],
          "name": "stdout"
        }
      ]
    },
    {
      "cell_type": "code",
      "metadata": {
        "id": "hmwpbNY0SEIf",
        "outputId": "a070dd1d-0471-4f09-c72d-7cde5189dca8",
        "colab": {
          "base_uri": "https://localhost:8080/",
          "height": 1000
        }
      },
      "source": [
        "from torchviz import make_dot\n",
        "batch = next(iter(trainLoader))\n",
        "inputs, labels = batch\n",
        "inputs, labels = inputs.cuda(), labels.cuda()\n",
        "# batch = Variable(torch.randn(1,8))\n",
        "y = net(inputs) # Give dummy batch to forward().\n",
        "# make_dot(y, params=dict(list(net.named_parameters()))).render(\"rnn_torchviz\", format=\"png\")\n",
        "make_dot(y.mean(), params=dict(list(net.named_parameters())))\n",
        "\n"
      ],
      "execution_count": 128,
      "outputs": [
        {
          "output_type": "execute_result",
          "data": {
            "text/plain": [
              "<graphviz.dot.Digraph at 0x7ff1af8f9e50>"
            ],
            "image/svg+xml": "<?xml version=\"1.0\" encoding=\"UTF-8\" standalone=\"no\"?>\n<!DOCTYPE svg PUBLIC \"-//W3C//DTD SVG 1.1//EN\"\n \"http://www.w3.org/Graphics/SVG/1.1/DTD/svg11.dtd\">\n<!-- Generated by graphviz version 2.40.1 (20161225.0304)\n -->\n<!-- Title: %3 Pages: 1 -->\n<svg width=\"1813pt\" height=\"1976pt\"\n viewBox=\"0.00 0.00 1813.14 1976.00\" xmlns=\"http://www.w3.org/2000/svg\" xmlns:xlink=\"http://www.w3.org/1999/xlink\">\n<g id=\"graph0\" class=\"graph\" transform=\"scale(.9048 .9048) rotate(0) translate(4 2180)\">\n<title>%3</title>\n<polygon fill=\"#ffffff\" stroke=\"transparent\" points=\"-4,4 -4,-2180 2000,-2180 2000,4 -4,4\"/>\n<!-- 140676009758304 -->\n<g id=\"node1\" class=\"node\">\n<title>140676009758304</title>\n<polygon fill=\"#caff70\" stroke=\"#000000\" points=\"1813.5,-31 1759.5,-31 1759.5,0 1813.5,0 1813.5,-31\"/>\n<text text-anchor=\"middle\" x=\"1786.5\" y=\"-7\" font-family=\"monospace\" font-size=\"10.00\" fill=\"#000000\"> ()</text>\n</g>\n<!-- 140676009268112 -->\n<g id=\"node2\" class=\"node\">\n<title>140676009268112</title>\n<polygon fill=\"#d3d3d3\" stroke=\"#000000\" points=\"1834,-86 1739,-86 1739,-67 1834,-67 1834,-86\"/>\n<text text-anchor=\"middle\" x=\"1786.5\" y=\"-74\" font-family=\"monospace\" font-size=\"10.00\" fill=\"#000000\">MeanBackward0</text>\n</g>\n<!-- 140676009268112&#45;&gt;140676009758304 -->\n<g id=\"edge91\" class=\"edge\">\n<title>140676009268112&#45;&gt;140676009758304</title>\n<path fill=\"none\" stroke=\"#000000\" d=\"M1786.5,-66.9688C1786.5,-60.1289 1786.5,-50.5621 1786.5,-41.5298\"/>\n<polygon fill=\"#000000\" stroke=\"#000000\" points=\"1790.0001,-41.3678 1786.5,-31.3678 1783.0001,-41.3678 1790.0001,-41.3678\"/>\n</g>\n<!-- 140676388220176 -->\n<g id=\"node3\" class=\"node\">\n<title>140676388220176</title>\n<polygon fill=\"#d3d3d3\" stroke=\"#000000\" points=\"1834,-141 1739,-141 1739,-122 1834,-122 1834,-141\"/>\n<text text-anchor=\"middle\" x=\"1786.5\" y=\"-129\" font-family=\"monospace\" font-size=\"10.00\" fill=\"#000000\">AddmmBackward</text>\n</g>\n<!-- 140676388220176&#45;&gt;140676009268112 -->\n<g id=\"edge1\" class=\"edge\">\n<title>140676388220176&#45;&gt;140676009268112</title>\n<path fill=\"none\" stroke=\"#000000\" d=\"M1786.5,-121.9197C1786.5,-114.9083 1786.5,-105.1442 1786.5,-96.4652\"/>\n<polygon fill=\"#000000\" stroke=\"#000000\" points=\"1790.0001,-96.3408 1786.5,-86.3408 1783.0001,-96.3409 1790.0001,-96.3408\"/>\n</g>\n<!-- 140676009270096 -->\n<g id=\"node4\" class=\"node\">\n<title>140676009270096</title>\n<polygon fill=\"#d3d3d3\" stroke=\"#000000\" points=\"1700,-196 1599,-196 1599,-177 1700,-177 1700,-196\"/>\n<text text-anchor=\"middle\" x=\"1649.5\" y=\"-184\" font-family=\"monospace\" font-size=\"10.00\" fill=\"#000000\">AccumulateGrad</text>\n</g>\n<!-- 140676009270096&#45;&gt;140676388220176 -->\n<g id=\"edge2\" class=\"edge\">\n<title>140676009270096&#45;&gt;140676388220176</title>\n<path fill=\"none\" stroke=\"#000000\" d=\"M1673.3636,-176.9197C1695.4269,-168.0622 1728.4331,-154.8115 1753.109,-144.9052\"/>\n<polygon fill=\"#000000\" stroke=\"#000000\" points=\"1754.4741,-148.1287 1762.4502,-141.155 1751.8661,-141.6326 1754.4741,-148.1287\"/>\n</g>\n<!-- 140676008398752 -->\n<g id=\"node5\" class=\"node\">\n<title>140676008398752</title>\n<polygon fill=\"#add8e6\" stroke=\"#000000\" points=\"1682,-262 1617,-262 1617,-232 1682,-232 1682,-262\"/>\n<text text-anchor=\"middle\" x=\"1649.5\" y=\"-250\" font-family=\"monospace\" font-size=\"10.00\" fill=\"#000000\">fc3.bias</text>\n<text text-anchor=\"middle\" x=\"1649.5\" y=\"-239\" font-family=\"monospace\" font-size=\"10.00\" fill=\"#000000\"> (10)</text>\n</g>\n<!-- 140676008398752&#45;&gt;140676009270096 -->\n<g id=\"edge3\" class=\"edge\">\n<title>140676008398752&#45;&gt;140676009270096</title>\n<path fill=\"none\" stroke=\"#000000\" d=\"M1649.5,-231.7333C1649.5,-224.0322 1649.5,-214.5977 1649.5,-206.3414\"/>\n<polygon fill=\"#000000\" stroke=\"#000000\" points=\"1653.0001,-206.0864 1649.5,-196.0864 1646.0001,-206.0864 1653.0001,-206.0864\"/>\n</g>\n<!-- 140676009268368 -->\n<g id=\"node6\" class=\"node\">\n<title>140676009268368</title>\n<polygon fill=\"#d3d3d3\" stroke=\"#000000\" points=\"1855,-196 1718,-196 1718,-177 1855,-177 1855,-196\"/>\n<text text-anchor=\"middle\" x=\"1786.5\" y=\"-184\" font-family=\"monospace\" font-size=\"10.00\" fill=\"#000000\">FusedDropoutBackward</text>\n</g>\n<!-- 140676009268368&#45;&gt;140676388220176 -->\n<g id=\"edge4\" class=\"edge\">\n<title>140676009268368&#45;&gt;140676388220176</title>\n<path fill=\"none\" stroke=\"#000000\" d=\"M1786.5,-176.9197C1786.5,-169.9083 1786.5,-160.1442 1786.5,-151.4652\"/>\n<polygon fill=\"#000000\" stroke=\"#000000\" points=\"1790.0001,-151.3408 1786.5,-141.3408 1783.0001,-151.3409 1790.0001,-151.3408\"/>\n</g>\n<!-- 140676007890192 -->\n<g id=\"node7\" class=\"node\">\n<title>140676007890192</title>\n<polygon fill=\"#d3d3d3\" stroke=\"#000000\" points=\"1834,-256.5 1739,-256.5 1739,-237.5 1834,-237.5 1834,-256.5\"/>\n<text text-anchor=\"middle\" x=\"1786.5\" y=\"-244.5\" font-family=\"monospace\" font-size=\"10.00\" fill=\"#000000\">ReluBackward0</text>\n</g>\n<!-- 140676007890192&#45;&gt;140676009268368 -->\n<g id=\"edge5\" class=\"edge\">\n<title>140676007890192&#45;&gt;140676009268368</title>\n<path fill=\"none\" stroke=\"#000000\" d=\"M1786.5,-237.2796C1786.5,-229.0376 1786.5,-216.9457 1786.5,-206.629\"/>\n<polygon fill=\"#000000\" stroke=\"#000000\" points=\"1790.0001,-206.3972 1786.5,-196.3972 1783.0001,-206.3973 1790.0001,-206.3972\"/>\n</g>\n<!-- 140676007889296 -->\n<g id=\"node8\" class=\"node\">\n<title>140676007889296</title>\n<polygon fill=\"#d3d3d3\" stroke=\"#000000\" points=\"1834,-322.5 1739,-322.5 1739,-303.5 1834,-303.5 1834,-322.5\"/>\n<text text-anchor=\"middle\" x=\"1786.5\" y=\"-310.5\" font-family=\"monospace\" font-size=\"10.00\" fill=\"#000000\">AddmmBackward</text>\n</g>\n<!-- 140676007889296&#45;&gt;140676007890192 -->\n<g id=\"edge6\" class=\"edge\">\n<title>140676007889296&#45;&gt;140676007890192</title>\n<path fill=\"none\" stroke=\"#000000\" d=\"M1786.5,-303.2615C1786.5,-293.7077 1786.5,-278.8615 1786.5,-266.8183\"/>\n<polygon fill=\"#000000\" stroke=\"#000000\" points=\"1790.0001,-266.7784 1786.5,-256.7785 1783.0001,-266.7785 1790.0001,-266.7784\"/>\n</g>\n<!-- 140676007888144 -->\n<g id=\"node9\" class=\"node\">\n<title>140676007888144</title>\n<polygon fill=\"#d3d3d3\" stroke=\"#000000\" points=\"1721,-383 1620,-383 1620,-364 1721,-364 1721,-383\"/>\n<text text-anchor=\"middle\" x=\"1670.5\" y=\"-371\" font-family=\"monospace\" font-size=\"10.00\" fill=\"#000000\">AccumulateGrad</text>\n</g>\n<!-- 140676007888144&#45;&gt;140676007889296 -->\n<g id=\"edge7\" class=\"edge\">\n<title>140676007888144&#45;&gt;140676007889296</title>\n<path fill=\"none\" stroke=\"#000000\" d=\"M1688.8805,-363.9136C1707.8013,-354.0454 1737.4974,-338.5574 1759.1713,-327.2533\"/>\n<polygon fill=\"#000000\" stroke=\"#000000\" points=\"1760.9575,-330.2693 1768.2054,-322.5416 1757.7204,-324.0627 1760.9575,-330.2693\"/>\n</g>\n<!-- 140676008416192 -->\n<g id=\"node10\" class=\"node\">\n<title>140676008416192</title>\n<polygon fill=\"#add8e6\" stroke=\"#000000\" points=\"1703,-449 1638,-449 1638,-419 1703,-419 1703,-449\"/>\n<text text-anchor=\"middle\" x=\"1670.5\" y=\"-437\" font-family=\"monospace\" font-size=\"10.00\" fill=\"#000000\">fc2.bias</text>\n<text text-anchor=\"middle\" x=\"1670.5\" y=\"-426\" font-family=\"monospace\" font-size=\"10.00\" fill=\"#000000\"> (512)</text>\n</g>\n<!-- 140676008416192&#45;&gt;140676007888144 -->\n<g id=\"edge8\" class=\"edge\">\n<title>140676008416192&#45;&gt;140676007888144</title>\n<path fill=\"none\" stroke=\"#000000\" d=\"M1670.5,-418.7333C1670.5,-411.0322 1670.5,-401.5977 1670.5,-393.3414\"/>\n<polygon fill=\"#000000\" stroke=\"#000000\" points=\"1674.0001,-393.0864 1670.5,-383.0864 1667.0001,-393.0864 1674.0001,-393.0864\"/>\n</g>\n<!-- 140676007890448 -->\n<g id=\"node11\" class=\"node\">\n<title>140676007890448</title>\n<polygon fill=\"#d3d3d3\" stroke=\"#000000\" points=\"1834,-383 1739,-383 1739,-364 1834,-364 1834,-383\"/>\n<text text-anchor=\"middle\" x=\"1786.5\" y=\"-371\" font-family=\"monospace\" font-size=\"10.00\" fill=\"#000000\">ReluBackward0</text>\n</g>\n<!-- 140676007890448&#45;&gt;140676007889296 -->\n<g id=\"edge9\" class=\"edge\">\n<title>140676007890448&#45;&gt;140676007889296</title>\n<path fill=\"none\" stroke=\"#000000\" d=\"M1786.5,-363.7796C1786.5,-355.5376 1786.5,-343.4457 1786.5,-333.129\"/>\n<polygon fill=\"#000000\" stroke=\"#000000\" points=\"1790.0001,-332.8972 1786.5,-322.8972 1783.0001,-332.8973 1790.0001,-332.8972\"/>\n</g>\n<!-- 140676007887440 -->\n<g id=\"node12\" class=\"node\">\n<title>140676007887440</title>\n<polygon fill=\"#d3d3d3\" stroke=\"#000000\" points=\"1830,-443.5 1735,-443.5 1735,-424.5 1830,-424.5 1830,-443.5\"/>\n<text text-anchor=\"middle\" x=\"1782.5\" y=\"-431.5\" font-family=\"monospace\" font-size=\"10.00\" fill=\"#000000\">AddmmBackward</text>\n</g>\n<!-- 140676007887440&#45;&gt;140676007890448 -->\n<g id=\"edge10\" class=\"edge\">\n<title>140676007887440&#45;&gt;140676007890448</title>\n<path fill=\"none\" stroke=\"#000000\" d=\"M1783.1427,-424.2796C1783.6876,-416.0376 1784.4871,-403.9457 1785.1692,-393.629\"/>\n<polygon fill=\"#000000\" stroke=\"#000000\" points=\"1788.6782,-393.6064 1785.8456,-383.3972 1781.6935,-393.1445 1788.6782,-393.6064\"/>\n</g>\n<!-- 140676007887248 -->\n<g id=\"node13\" class=\"node\">\n<title>140676007887248</title>\n<polygon fill=\"#d3d3d3\" stroke=\"#000000\" points=\"1645,-509.5 1544,-509.5 1544,-490.5 1645,-490.5 1645,-509.5\"/>\n<text text-anchor=\"middle\" x=\"1594.5\" y=\"-497.5\" font-family=\"monospace\" font-size=\"10.00\" fill=\"#000000\">AccumulateGrad</text>\n</g>\n<!-- 140676007887248&#45;&gt;140676007887440 -->\n<g id=\"edge11\" class=\"edge\">\n<title>140676007887248&#45;&gt;140676007887440</title>\n<path fill=\"none\" stroke=\"#000000\" d=\"M1621.8368,-490.403C1654.5103,-478.9326 1709.3226,-459.6899 1745.6981,-446.9198\"/>\n<polygon fill=\"#000000\" stroke=\"#000000\" points=\"1747.1591,-450.1164 1755.4352,-443.5015 1744.8404,-443.5116 1747.1591,-450.1164\"/>\n</g>\n<!-- 140676008415712 -->\n<g id=\"node14\" class=\"node\">\n<title>140676008415712</title>\n<polygon fill=\"#add8e6\" stroke=\"#000000\" points=\"1627,-581 1562,-581 1562,-551 1627,-551 1627,-581\"/>\n<text text-anchor=\"middle\" x=\"1594.5\" y=\"-569\" font-family=\"monospace\" font-size=\"10.00\" fill=\"#000000\">fc1.bias</text>\n<text text-anchor=\"middle\" x=\"1594.5\" y=\"-558\" font-family=\"monospace\" font-size=\"10.00\" fill=\"#000000\"> (1024)</text>\n</g>\n<!-- 140676008415712&#45;&gt;140676007887248 -->\n<g id=\"edge12\" class=\"edge\">\n<title>140676008415712&#45;&gt;140676007887248</title>\n<path fill=\"none\" stroke=\"#000000\" d=\"M1594.5,-550.6924C1594.5,-541.5067 1594.5,-529.7245 1594.5,-519.8312\"/>\n<polygon fill=\"#000000\" stroke=\"#000000\" points=\"1598.0001,-519.703 1594.5,-509.7031 1591.0001,-519.7031 1598.0001,-519.703\"/>\n</g>\n<!-- 140676007889872 -->\n<g id=\"node15\" class=\"node\">\n<title>140676007889872</title>\n<polygon fill=\"#d3d3d3\" stroke=\"#000000\" points=\"1800,-509.5 1663,-509.5 1663,-490.5 1800,-490.5 1800,-509.5\"/>\n<text text-anchor=\"middle\" x=\"1731.5\" y=\"-497.5\" font-family=\"monospace\" font-size=\"10.00\" fill=\"#000000\">FusedDropoutBackward</text>\n</g>\n<!-- 140676007889872&#45;&gt;140676007887440 -->\n<g id=\"edge13\" class=\"edge\">\n<title>140676007889872&#45;&gt;140676007887440</title>\n<path fill=\"none\" stroke=\"#000000\" d=\"M1739.0252,-490.2615C1746.7843,-480.2203 1759.061,-464.3329 1768.5925,-451.998\"/>\n<polygon fill=\"#000000\" stroke=\"#000000\" points=\"1771.5989,-453.8314 1774.9439,-443.7785 1766.0599,-449.5513 1771.5989,-453.8314\"/>\n</g>\n<!-- 140676007887632 -->\n<g id=\"node16\" class=\"node\">\n<title>140676007887632</title>\n<polygon fill=\"#d3d3d3\" stroke=\"#000000\" points=\"1771,-575.5 1682,-575.5 1682,-556.5 1771,-556.5 1771,-575.5\"/>\n<text text-anchor=\"middle\" x=\"1726.5\" y=\"-563.5\" font-family=\"monospace\" font-size=\"10.00\" fill=\"#000000\">ViewBackward</text>\n</g>\n<!-- 140676007887632&#45;&gt;140676007889872 -->\n<g id=\"edge14\" class=\"edge\">\n<title>140676007887632&#45;&gt;140676007889872</title>\n<path fill=\"none\" stroke=\"#000000\" d=\"M1727.2378,-556.2615C1727.9615,-546.7077 1729.0862,-531.8615 1729.9986,-519.8183\"/>\n<polygon fill=\"#000000\" stroke=\"#000000\" points=\"1733.4937,-520.0143 1730.7592,-509.7785 1726.5137,-519.4855 1733.4937,-520.0143\"/>\n</g>\n<!-- 140676007889424 -->\n<g id=\"node17\" class=\"node\">\n<title>140676007889424</title>\n<polygon fill=\"#d3d3d3\" stroke=\"#000000\" points=\"1810,-641.5 1625,-641.5 1625,-622.5 1810,-622.5 1810,-641.5\"/>\n<text text-anchor=\"middle\" x=\"1717.5\" y=\"-629.5\" font-family=\"monospace\" font-size=\"10.00\" fill=\"#000000\">MaxPool2DWithIndicesBackward</text>\n</g>\n<!-- 140676007889424&#45;&gt;140676007887632 -->\n<g id=\"edge15\" class=\"edge\">\n<title>140676007889424&#45;&gt;140676007887632</title>\n<path fill=\"none\" stroke=\"#000000\" d=\"M1718.828,-622.2615C1720.1308,-612.7077 1722.1552,-597.8615 1723.7975,-585.8183\"/>\n<polygon fill=\"#000000\" stroke=\"#000000\" points=\"1727.2833,-586.1597 1725.1666,-575.7785 1720.3474,-585.2139 1727.2833,-586.1597\"/>\n</g>\n<!-- 140676007889552 -->\n<g id=\"node18\" class=\"node\">\n<title>140676007889552</title>\n<polygon fill=\"#d3d3d3\" stroke=\"#000000\" points=\"1765,-702 1670,-702 1670,-683 1765,-683 1765,-702\"/>\n<text text-anchor=\"middle\" x=\"1717.5\" y=\"-690\" font-family=\"monospace\" font-size=\"10.00\" fill=\"#000000\">ReluBackward0</text>\n</g>\n<!-- 140676007889552&#45;&gt;140676007889424 -->\n<g id=\"edge16\" class=\"edge\">\n<title>140676007889552&#45;&gt;140676007889424</title>\n<path fill=\"none\" stroke=\"#000000\" d=\"M1717.5,-682.7796C1717.5,-674.5376 1717.5,-662.4457 1717.5,-652.129\"/>\n<polygon fill=\"#000000\" stroke=\"#000000\" points=\"1721.0001,-651.8972 1717.5,-641.8972 1714.0001,-651.8973 1721.0001,-651.8972\"/>\n</g>\n<!-- 140676007890640 -->\n<g id=\"node19\" class=\"node\">\n<title>140676007890640</title>\n<polygon fill=\"#d3d3d3\" stroke=\"#000000\" points=\"1762,-757 1673,-757 1673,-738 1762,-738 1762,-757\"/>\n<text text-anchor=\"middle\" x=\"1717.5\" y=\"-745\" font-family=\"monospace\" font-size=\"10.00\" fill=\"#000000\">AddBackward0</text>\n</g>\n<!-- 140676007890640&#45;&gt;140676007889552 -->\n<g id=\"edge17\" class=\"edge\">\n<title>140676007890640&#45;&gt;140676007889552</title>\n<path fill=\"none\" stroke=\"#000000\" d=\"M1717.5,-737.9197C1717.5,-730.9083 1717.5,-721.1442 1717.5,-712.4652\"/>\n<polygon fill=\"#000000\" stroke=\"#000000\" points=\"1721.0001,-712.3408 1717.5,-702.3408 1714.0001,-712.3409 1721.0001,-712.3408\"/>\n</g>\n<!-- 140676007887760 -->\n<g id=\"node20\" class=\"node\">\n<title>140676007887760</title>\n<polygon fill=\"#d3d3d3\" stroke=\"#000000\" points=\"1727,-812 1566,-812 1566,-793 1727,-793 1727,-812\"/>\n<text text-anchor=\"middle\" x=\"1646.5\" y=\"-800\" font-family=\"monospace\" font-size=\"10.00\" fill=\"#000000\">CudnnConvolutionBackward</text>\n</g>\n<!-- 140676007887760&#45;&gt;140676007890640 -->\n<g id=\"edge18\" class=\"edge\">\n<title>140676007887760&#45;&gt;140676007890640</title>\n<path fill=\"none\" stroke=\"#000000\" d=\"M1658.8673,-792.9197C1669.3263,-784.8177 1684.5303,-773.0399 1696.8349,-763.5082\"/>\n<polygon fill=\"#000000\" stroke=\"#000000\" points=\"1699.0343,-766.2318 1704.7964,-757.3408 1694.7475,-760.6979 1699.0343,-766.2318\"/>\n</g>\n<!-- 140676009484112 -->\n<g id=\"node21\" class=\"node\">\n<title>140676009484112</title>\n<polygon fill=\"#d3d3d3\" stroke=\"#000000\" points=\"1577,-867 1482,-867 1482,-848 1577,-848 1577,-867\"/>\n<text text-anchor=\"middle\" x=\"1529.5\" y=\"-855\" font-family=\"monospace\" font-size=\"10.00\" fill=\"#000000\">ReluBackward0</text>\n</g>\n<!-- 140676009484112&#45;&gt;140676007887760 -->\n<g id=\"edge19\" class=\"edge\">\n<title>140676009484112&#45;&gt;140676007887760</title>\n<path fill=\"none\" stroke=\"#000000\" d=\"M1549.8798,-847.9197C1568.3888,-839.219 1595.9152,-826.2792 1616.858,-816.4343\"/>\n<polygon fill=\"#000000\" stroke=\"#000000\" points=\"1618.4002,-819.5768 1625.9611,-812.155 1615.4222,-813.2418 1618.4002,-819.5768\"/>\n</g>\n<!-- 140677888382032 -->\n<g id=\"node22\" class=\"node\">\n<title>140677888382032</title>\n<polygon fill=\"#d3d3d3\" stroke=\"#000000\" points=\"1595,-927.5 1446,-927.5 1446,-908.5 1595,-908.5 1595,-927.5\"/>\n<text text-anchor=\"middle\" x=\"1520.5\" y=\"-915.5\" font-family=\"monospace\" font-size=\"10.00\" fill=\"#000000\">CudnnBatchNormBackward</text>\n</g>\n<!-- 140677888382032&#45;&gt;140676009484112 -->\n<g id=\"edge20\" class=\"edge\">\n<title>140677888382032&#45;&gt;140676009484112</title>\n<path fill=\"none\" stroke=\"#000000\" d=\"M1521.946,-908.2796C1523.1851,-899.9499 1525.0092,-887.688 1526.5545,-877.3004\"/>\n<polygon fill=\"#000000\" stroke=\"#000000\" points=\"1530.0181,-877.8034 1528.0277,-867.3972 1523.0943,-876.7734 1530.0181,-877.8034\"/>\n</g>\n<!-- 140676009739536 -->\n<g id=\"node23\" class=\"node\">\n<title>140676009739536</title>\n<polygon fill=\"#d3d3d3\" stroke=\"#000000\" points=\"1452,-988 1363,-988 1363,-969 1452,-969 1452,-988\"/>\n<text text-anchor=\"middle\" x=\"1407.5\" y=\"-976\" font-family=\"monospace\" font-size=\"10.00\" fill=\"#000000\">AddBackward0</text>\n</g>\n<!-- 140676009739536&#45;&gt;140677888382032 -->\n<g id=\"edge21\" class=\"edge\">\n<title>140676009739536&#45;&gt;140677888382032</title>\n<path fill=\"none\" stroke=\"#000000\" d=\"M1425.4052,-968.9136C1443.754,-959.0897 1472.5054,-943.6962 1493.5936,-932.4056\"/>\n<polygon fill=\"#000000\" stroke=\"#000000\" points=\"1495.5146,-935.3472 1502.6786,-927.5416 1492.2106,-929.1761 1495.5146,-935.3472\"/>\n</g>\n<!-- 140676009467152 -->\n<g id=\"node24\" class=\"node\">\n<title>140676009467152</title>\n<polygon fill=\"#d3d3d3\" stroke=\"#000000\" points=\"1347,-1048.5 1186,-1048.5 1186,-1029.5 1347,-1029.5 1347,-1048.5\"/>\n<text text-anchor=\"middle\" x=\"1266.5\" y=\"-1036.5\" font-family=\"monospace\" font-size=\"10.00\" fill=\"#000000\">CudnnConvolutionBackward</text>\n</g>\n<!-- 140676009467152&#45;&gt;140676009739536 -->\n<g id=\"edge22\" class=\"edge\">\n<title>140676009467152&#45;&gt;140676009739536</title>\n<path fill=\"none\" stroke=\"#000000\" d=\"M1288.8419,-1029.4136C1312.3561,-1019.3242 1349.5617,-1003.3601 1376.0386,-991.9994\"/>\n<polygon fill=\"#000000\" stroke=\"#000000\" points=\"1377.453,-995.2012 1385.2627,-988.0416 1374.6928,-988.7683 1377.453,-995.2012\"/>\n</g>\n<!-- 140676009466768 -->\n<g id=\"node25\" class=\"node\">\n<title>140676009466768</title>\n<polygon fill=\"#d3d3d3\" stroke=\"#000000\" points=\"1199,-1109 1062,-1109 1062,-1090 1199,-1090 1199,-1109\"/>\n<text text-anchor=\"middle\" x=\"1130.5\" y=\"-1097\" font-family=\"monospace\" font-size=\"10.00\" fill=\"#000000\">FusedDropoutBackward</text>\n</g>\n<!-- 140676009466768&#45;&gt;140676009467152 -->\n<g id=\"edge23\" class=\"edge\">\n<title>140676009466768&#45;&gt;140676009467152</title>\n<path fill=\"none\" stroke=\"#000000\" d=\"M1152.0496,-1089.9136C1174.6305,-1079.8684 1210.3017,-1064 1235.8177,-1052.6491\"/>\n<polygon fill=\"#000000\" stroke=\"#000000\" points=\"1237.3371,-1055.804 1245.0512,-1048.5416 1234.4919,-1049.4083 1237.3371,-1055.804\"/>\n</g>\n<!-- 140676009467216 -->\n<g id=\"node26\" class=\"node\">\n<title>140676009467216</title>\n<polygon fill=\"#d3d3d3\" stroke=\"#000000\" points=\"1215,-1169.5 1030,-1169.5 1030,-1150.5 1215,-1150.5 1215,-1169.5\"/>\n<text text-anchor=\"middle\" x=\"1122.5\" y=\"-1157.5\" font-family=\"monospace\" font-size=\"10.00\" fill=\"#000000\">MaxPool2DWithIndicesBackward</text>\n</g>\n<!-- 140676009467216&#45;&gt;140676009466768 -->\n<g id=\"edge24\" class=\"edge\">\n<title>140676009467216&#45;&gt;140676009466768</title>\n<path fill=\"none\" stroke=\"#000000\" d=\"M1123.7853,-1150.2796C1124.8752,-1142.0376 1126.4741,-1129.9457 1127.8383,-1119.629\"/>\n<polygon fill=\"#000000\" stroke=\"#000000\" points=\"1131.3501,-1119.7698 1129.1913,-1109.3972 1124.4105,-1118.8521 1131.3501,-1119.7698\"/>\n</g>\n<!-- 140676009466960 -->\n<g id=\"node27\" class=\"node\">\n<title>140676009466960</title>\n<polygon fill=\"#d3d3d3\" stroke=\"#000000\" points=\"1170,-1230 1075,-1230 1075,-1211 1170,-1211 1170,-1230\"/>\n<text text-anchor=\"middle\" x=\"1122.5\" y=\"-1218\" font-family=\"monospace\" font-size=\"10.00\" fill=\"#000000\">ReluBackward0</text>\n</g>\n<!-- 140676009466960&#45;&gt;140676009467216 -->\n<g id=\"edge25\" class=\"edge\">\n<title>140676009466960&#45;&gt;140676009467216</title>\n<path fill=\"none\" stroke=\"#000000\" d=\"M1122.5,-1210.7796C1122.5,-1202.5376 1122.5,-1190.4457 1122.5,-1180.129\"/>\n<polygon fill=\"#000000\" stroke=\"#000000\" points=\"1126.0001,-1179.8972 1122.5,-1169.8972 1119.0001,-1179.8973 1126.0001,-1179.8972\"/>\n</g>\n<!-- 140676009467344 -->\n<g id=\"node28\" class=\"node\">\n<title>140676009467344</title>\n<polygon fill=\"#d3d3d3\" stroke=\"#000000\" points=\"1167,-1285 1078,-1285 1078,-1266 1167,-1266 1167,-1285\"/>\n<text text-anchor=\"middle\" x=\"1122.5\" y=\"-1273\" font-family=\"monospace\" font-size=\"10.00\" fill=\"#000000\">AddBackward0</text>\n</g>\n<!-- 140676009467344&#45;&gt;140676009466960 -->\n<g id=\"edge26\" class=\"edge\">\n<title>140676009467344&#45;&gt;140676009466960</title>\n<path fill=\"none\" stroke=\"#000000\" d=\"M1122.5,-1265.9197C1122.5,-1258.9083 1122.5,-1249.1442 1122.5,-1240.4652\"/>\n<polygon fill=\"#000000\" stroke=\"#000000\" points=\"1126.0001,-1240.3408 1122.5,-1230.3408 1119.0001,-1240.3409 1126.0001,-1240.3408\"/>\n</g>\n<!-- 140676009465808 -->\n<g id=\"node29\" class=\"node\">\n<title>140676009465808</title>\n<polygon fill=\"#d3d3d3\" stroke=\"#000000\" points=\"1132,-1340 971,-1340 971,-1321 1132,-1321 1132,-1340\"/>\n<text text-anchor=\"middle\" x=\"1051.5\" y=\"-1328\" font-family=\"monospace\" font-size=\"10.00\" fill=\"#000000\">CudnnConvolutionBackward</text>\n</g>\n<!-- 140676009465808&#45;&gt;140676009467344 -->\n<g id=\"edge27\" class=\"edge\">\n<title>140676009465808&#45;&gt;140676009467344</title>\n<path fill=\"none\" stroke=\"#000000\" d=\"M1063.8673,-1320.9197C1074.3263,-1312.8177 1089.5303,-1301.0399 1101.8349,-1291.5082\"/>\n<polygon fill=\"#000000\" stroke=\"#000000\" points=\"1104.0343,-1294.2318 1109.7964,-1285.3408 1099.7475,-1288.6979 1104.0343,-1294.2318\"/>\n</g>\n<!-- 140676009466256 -->\n<g id=\"node30\" class=\"node\">\n<title>140676009466256</title>\n<polygon fill=\"#d3d3d3\" stroke=\"#000000\" points=\"982,-1395 887,-1395 887,-1376 982,-1376 982,-1395\"/>\n<text text-anchor=\"middle\" x=\"934.5\" y=\"-1383\" font-family=\"monospace\" font-size=\"10.00\" fill=\"#000000\">ReluBackward0</text>\n</g>\n<!-- 140676009466256&#45;&gt;140676009465808 -->\n<g id=\"edge28\" class=\"edge\">\n<title>140676009466256&#45;&gt;140676009465808</title>\n<path fill=\"none\" stroke=\"#000000\" d=\"M954.8798,-1375.9197C973.3888,-1367.219 1000.9152,-1354.2792 1021.858,-1344.4343\"/>\n<polygon fill=\"#000000\" stroke=\"#000000\" points=\"1023.4002,-1347.5768 1030.9611,-1340.155 1020.4222,-1341.2418 1023.4002,-1347.5768\"/>\n</g>\n<!-- 140676009465040 -->\n<g id=\"node31\" class=\"node\">\n<title>140676009465040</title>\n<polygon fill=\"#d3d3d3\" stroke=\"#000000\" points=\"1000,-1455.5 851,-1455.5 851,-1436.5 1000,-1436.5 1000,-1455.5\"/>\n<text text-anchor=\"middle\" x=\"925.5\" y=\"-1443.5\" font-family=\"monospace\" font-size=\"10.00\" fill=\"#000000\">CudnnBatchNormBackward</text>\n</g>\n<!-- 140676009465040&#45;&gt;140676009466256 -->\n<g id=\"edge29\" class=\"edge\">\n<title>140676009465040&#45;&gt;140676009466256</title>\n<path fill=\"none\" stroke=\"#000000\" d=\"M926.946,-1436.2796C928.1851,-1427.9499 930.0092,-1415.688 931.5545,-1405.3004\"/>\n<polygon fill=\"#000000\" stroke=\"#000000\" points=\"935.0181,-1405.8034 933.0277,-1395.3972 928.0943,-1404.7734 935.0181,-1405.8034\"/>\n</g>\n<!-- 140676009464784 -->\n<g id=\"node32\" class=\"node\">\n<title>140676009464784</title>\n<polygon fill=\"#d3d3d3\" stroke=\"#000000\" points=\"857,-1516 768,-1516 768,-1497 857,-1497 857,-1516\"/>\n<text text-anchor=\"middle\" x=\"812.5\" y=\"-1504\" font-family=\"monospace\" font-size=\"10.00\" fill=\"#000000\">AddBackward0</text>\n</g>\n<!-- 140676009464784&#45;&gt;140676009465040 -->\n<g id=\"edge30\" class=\"edge\">\n<title>140676009464784&#45;&gt;140676009465040</title>\n<path fill=\"none\" stroke=\"#000000\" d=\"M830.4052,-1496.9136C848.754,-1487.0897 877.5054,-1471.6962 898.5936,-1460.4056\"/>\n<polygon fill=\"#000000\" stroke=\"#000000\" points=\"900.5146,-1463.3472 907.6786,-1455.5416 897.2106,-1457.1761 900.5146,-1463.3472\"/>\n</g>\n<!-- 140676009466448 -->\n<g id=\"node33\" class=\"node\">\n<title>140676009466448</title>\n<polygon fill=\"#d3d3d3\" stroke=\"#000000\" points=\"752,-1576.5 591,-1576.5 591,-1557.5 752,-1557.5 752,-1576.5\"/>\n<text text-anchor=\"middle\" x=\"671.5\" y=\"-1564.5\" font-family=\"monospace\" font-size=\"10.00\" fill=\"#000000\">CudnnConvolutionBackward</text>\n</g>\n<!-- 140676009466448&#45;&gt;140676009464784 -->\n<g id=\"edge31\" class=\"edge\">\n<title>140676009466448&#45;&gt;140676009464784</title>\n<path fill=\"none\" stroke=\"#000000\" d=\"M693.8419,-1557.4136C717.3561,-1547.3242 754.5617,-1531.3601 781.0386,-1519.9994\"/>\n<polygon fill=\"#000000\" stroke=\"#000000\" points=\"782.453,-1523.2012 790.2627,-1516.0416 779.6928,-1516.7683 782.453,-1523.2012\"/>\n</g>\n<!-- 140676009464720 -->\n<g id=\"node34\" class=\"node\">\n<title>140676009464720</title>\n<polygon fill=\"#d3d3d3\" stroke=\"#000000\" points=\"615,-1637 430,-1637 430,-1618 615,-1618 615,-1637\"/>\n<text text-anchor=\"middle\" x=\"522.5\" y=\"-1625\" font-family=\"monospace\" font-size=\"10.00\" fill=\"#000000\">MaxPool2DWithIndicesBackward</text>\n</g>\n<!-- 140676009464720&#45;&gt;140676009466448 -->\n<g id=\"edge32\" class=\"edge\">\n<title>140676009464720&#45;&gt;140676009466448</title>\n<path fill=\"none\" stroke=\"#000000\" d=\"M546.1095,-1617.9136C571.0668,-1607.7799 610.6196,-1591.7199 638.6211,-1580.3502\"/>\n<polygon fill=\"#000000\" stroke=\"#000000\" points=\"640.0524,-1583.5466 648.001,-1576.5416 637.4189,-1577.0608 640.0524,-1583.5466\"/>\n</g>\n<!-- 140676353766352 -->\n<g id=\"node35\" class=\"node\">\n<title>140676353766352</title>\n<polygon fill=\"#d3d3d3\" stroke=\"#000000\" points=\"570,-1697.5 475,-1697.5 475,-1678.5 570,-1678.5 570,-1697.5\"/>\n<text text-anchor=\"middle\" x=\"522.5\" y=\"-1685.5\" font-family=\"monospace\" font-size=\"10.00\" fill=\"#000000\">ReluBackward0</text>\n</g>\n<!-- 140676353766352&#45;&gt;140676009464720 -->\n<g id=\"edge33\" class=\"edge\">\n<title>140676353766352&#45;&gt;140676009464720</title>\n<path fill=\"none\" stroke=\"#000000\" d=\"M522.5,-1678.2796C522.5,-1670.0376 522.5,-1657.9457 522.5,-1647.629\"/>\n<polygon fill=\"#000000\" stroke=\"#000000\" points=\"526.0001,-1647.3972 522.5,-1637.3972 519.0001,-1647.3973 526.0001,-1647.3972\"/>\n</g>\n<!-- 140676352912464 -->\n<g id=\"node36\" class=\"node\">\n<title>140676352912464</title>\n<polygon fill=\"#d3d3d3\" stroke=\"#000000\" points=\"567,-1758 478,-1758 478,-1739 567,-1739 567,-1758\"/>\n<text text-anchor=\"middle\" x=\"522.5\" y=\"-1746\" font-family=\"monospace\" font-size=\"10.00\" fill=\"#000000\">AddBackward0</text>\n</g>\n<!-- 140676352912464&#45;&gt;140676353766352 -->\n<g id=\"edge34\" class=\"edge\">\n<title>140676352912464&#45;&gt;140676353766352</title>\n<path fill=\"none\" stroke=\"#000000\" d=\"M522.5,-1738.7796C522.5,-1730.5376 522.5,-1718.4457 522.5,-1708.129\"/>\n<polygon fill=\"#000000\" stroke=\"#000000\" points=\"526.0001,-1707.8972 522.5,-1697.8972 519.0001,-1707.8973 526.0001,-1707.8972\"/>\n</g>\n<!-- 140676015308688 -->\n<g id=\"node37\" class=\"node\">\n<title>140676015308688</title>\n<polygon fill=\"#d3d3d3\" stroke=\"#000000\" points=\"532,-1813 371,-1813 371,-1794 532,-1794 532,-1813\"/>\n<text text-anchor=\"middle\" x=\"451.5\" y=\"-1801\" font-family=\"monospace\" font-size=\"10.00\" fill=\"#000000\">CudnnConvolutionBackward</text>\n</g>\n<!-- 140676015308688&#45;&gt;140676352912464 -->\n<g id=\"edge35\" class=\"edge\">\n<title>140676015308688&#45;&gt;140676352912464</title>\n<path fill=\"none\" stroke=\"#000000\" d=\"M463.8673,-1793.9197C474.3263,-1785.8177 489.5303,-1774.0399 501.8349,-1764.5082\"/>\n<polygon fill=\"#000000\" stroke=\"#000000\" points=\"504.0343,-1767.2318 509.7964,-1758.3408 499.7475,-1761.6979 504.0343,-1767.2318\"/>\n</g>\n<!-- 140676353662160 -->\n<g id=\"node38\" class=\"node\">\n<title>140676353662160</title>\n<polygon fill=\"#d3d3d3\" stroke=\"#000000\" points=\"389,-1868 294,-1868 294,-1849 389,-1849 389,-1868\"/>\n<text text-anchor=\"middle\" x=\"341.5\" y=\"-1856\" font-family=\"monospace\" font-size=\"10.00\" fill=\"#000000\">ReluBackward0</text>\n</g>\n<!-- 140676353662160&#45;&gt;140676015308688 -->\n<g id=\"edge36\" class=\"edge\">\n<title>140676353662160&#45;&gt;140676015308688</title>\n<path fill=\"none\" stroke=\"#000000\" d=\"M360.6605,-1848.9197C377.9053,-1840.2973 403.476,-1827.512 423.0978,-1817.7011\"/>\n<polygon fill=\"#000000\" stroke=\"#000000\" points=\"424.8109,-1820.7577 432.19,-1813.155 421.6804,-1814.4967 424.8109,-1820.7577\"/>\n</g>\n<!-- 140676009465744 -->\n<g id=\"node39\" class=\"node\">\n<title>140676009465744</title>\n<polygon fill=\"#d3d3d3\" stroke=\"#000000\" points=\"409,-1928.5 260,-1928.5 260,-1909.5 409,-1909.5 409,-1928.5\"/>\n<text text-anchor=\"middle\" x=\"334.5\" y=\"-1916.5\" font-family=\"monospace\" font-size=\"10.00\" fill=\"#000000\">CudnnBatchNormBackward</text>\n</g>\n<!-- 140676009465744&#45;&gt;140676353662160 -->\n<g id=\"edge37\" class=\"edge\">\n<title>140676009465744&#45;&gt;140676353662160</title>\n<path fill=\"none\" stroke=\"#000000\" d=\"M335.6247,-1909.2796C336.5783,-1901.0376 337.9774,-1888.9457 339.171,-1878.629\"/>\n<polygon fill=\"#000000\" stroke=\"#000000\" points=\"342.6822,-1878.7333 340.3549,-1868.3972 335.7286,-1877.9287 342.6822,-1878.7333\"/>\n</g>\n<!-- 140676009526096 -->\n<g id=\"node40\" class=\"node\">\n<title>140676009526096</title>\n<polygon fill=\"#d3d3d3\" stroke=\"#000000\" points=\"266,-1989 177,-1989 177,-1970 266,-1970 266,-1989\"/>\n<text text-anchor=\"middle\" x=\"221.5\" y=\"-1977\" font-family=\"monospace\" font-size=\"10.00\" fill=\"#000000\">AddBackward0</text>\n</g>\n<!-- 140676009526096&#45;&gt;140676009465744 -->\n<g id=\"edge38\" class=\"edge\">\n<title>140676009526096&#45;&gt;140676009465744</title>\n<path fill=\"none\" stroke=\"#000000\" d=\"M239.4052,-1969.9136C257.754,-1960.0897 286.5054,-1944.6962 307.5936,-1933.4056\"/>\n<polygon fill=\"#000000\" stroke=\"#000000\" points=\"309.5146,-1936.3472 316.6786,-1928.5416 306.2106,-1930.1761 309.5146,-1936.3472\"/>\n</g>\n<!-- 140676009527824 -->\n<g id=\"node41\" class=\"node\">\n<title>140676009527824</title>\n<polygon fill=\"#d3d3d3\" stroke=\"#000000\" points=\"161,-2049.5 0,-2049.5 0,-2030.5 161,-2030.5 161,-2049.5\"/>\n<text text-anchor=\"middle\" x=\"80.5\" y=\"-2037.5\" font-family=\"monospace\" font-size=\"10.00\" fill=\"#000000\">CudnnConvolutionBackward</text>\n</g>\n<!-- 140676009527824&#45;&gt;140676009526096 -->\n<g id=\"edge39\" class=\"edge\">\n<title>140676009527824&#45;&gt;140676009526096</title>\n<path fill=\"none\" stroke=\"#000000\" d=\"M102.8419,-2030.4136C126.3561,-2020.3242 163.5617,-2004.3601 190.0386,-1992.9994\"/>\n<polygon fill=\"#000000\" stroke=\"#000000\" points=\"191.453,-1996.2012 199.2627,-1989.0416 188.6928,-1989.7683 191.453,-1996.2012\"/>\n</g>\n<!-- 140676009529040 -->\n<g id=\"node42\" class=\"node\">\n<title>140676009529040</title>\n<polygon fill=\"#d3d3d3\" stroke=\"#000000\" points=\"131,-2110 30,-2110 30,-2091 131,-2091 131,-2110\"/>\n<text text-anchor=\"middle\" x=\"80.5\" y=\"-2098\" font-family=\"monospace\" font-size=\"10.00\" fill=\"#000000\">AccumulateGrad</text>\n</g>\n<!-- 140676009529040&#45;&gt;140676009527824 -->\n<g id=\"edge40\" class=\"edge\">\n<title>140676009529040&#45;&gt;140676009527824</title>\n<path fill=\"none\" stroke=\"#000000\" d=\"M80.5,-2090.7796C80.5,-2082.5376 80.5,-2070.4457 80.5,-2060.129\"/>\n<polygon fill=\"#000000\" stroke=\"#000000\" points=\"84.0001,-2059.8972 80.5,-2049.8972 77.0001,-2059.8973 84.0001,-2059.8972\"/>\n</g>\n<!-- 140676009556000 -->\n<g id=\"node43\" class=\"node\">\n<title>140676009556000</title>\n<polygon fill=\"#add8e6\" stroke=\"#000000\" points=\"131,-2176 30,-2176 30,-2146 131,-2146 131,-2176\"/>\n<text text-anchor=\"middle\" x=\"80.5\" y=\"-2164\" font-family=\"monospace\" font-size=\"10.00\" fill=\"#000000\">conv1.weight</text>\n<text text-anchor=\"middle\" x=\"80.5\" y=\"-2153\" font-family=\"monospace\" font-size=\"10.00\" fill=\"#000000\"> (32, 3, 3, 3)</text>\n</g>\n<!-- 140676009556000&#45;&gt;140676009529040 -->\n<g id=\"edge41\" class=\"edge\">\n<title>140676009556000&#45;&gt;140676009529040</title>\n<path fill=\"none\" stroke=\"#000000\" d=\"M80.5,-2145.7333C80.5,-2138.0322 80.5,-2128.5977 80.5,-2120.3414\"/>\n<polygon fill=\"#000000\" stroke=\"#000000\" points=\"84.0001,-2120.0864 80.5,-2110.0864 77.0001,-2120.0864 84.0001,-2120.0864\"/>\n</g>\n<!-- 140676009526480 -->\n<g id=\"node44\" class=\"node\">\n<title>140676009526480</title>\n<polygon fill=\"#d3d3d3\" stroke=\"#000000\" points=\"268,-2049.5 179,-2049.5 179,-2030.5 268,-2030.5 268,-2049.5\"/>\n<text text-anchor=\"middle\" x=\"223.5\" y=\"-2037.5\" font-family=\"monospace\" font-size=\"10.00\" fill=\"#000000\">ViewBackward</text>\n</g>\n<!-- 140676009526480&#45;&gt;140676009526096 -->\n<g id=\"edge42\" class=\"edge\">\n<title>140676009526480&#45;&gt;140676009526096</title>\n<path fill=\"none\" stroke=\"#000000\" d=\"M223.1787,-2030.2796C222.9062,-2022.0376 222.5065,-2009.9457 222.1654,-1999.629\"/>\n<polygon fill=\"#000000\" stroke=\"#000000\" points=\"225.6558,-1999.2761 221.8272,-1989.3972 218.6596,-1999.5074 225.6558,-1999.2761\"/>\n</g>\n<!-- 140676009526992 -->\n<g id=\"node45\" class=\"node\">\n<title>140676009526992</title>\n<polygon fill=\"#d3d3d3\" stroke=\"#000000\" points=\"274,-2110 173,-2110 173,-2091 274,-2091 274,-2110\"/>\n<text text-anchor=\"middle\" x=\"223.5\" y=\"-2098\" font-family=\"monospace\" font-size=\"10.00\" fill=\"#000000\">AccumulateGrad</text>\n</g>\n<!-- 140676009526992&#45;&gt;140676009526480 -->\n<g id=\"edge43\" class=\"edge\">\n<title>140676009526992&#45;&gt;140676009526480</title>\n<path fill=\"none\" stroke=\"#000000\" d=\"M223.5,-2090.7796C223.5,-2082.5376 223.5,-2070.4457 223.5,-2060.129\"/>\n<polygon fill=\"#000000\" stroke=\"#000000\" points=\"227.0001,-2059.8972 223.5,-2049.8972 220.0001,-2059.8973 227.0001,-2059.8972\"/>\n</g>\n<!-- 140676009556640 -->\n<g id=\"node46\" class=\"node\">\n<title>140676009556640</title>\n<polygon fill=\"#add8e6\" stroke=\"#000000\" points=\"262,-2176 185,-2176 185,-2146 262,-2146 262,-2176\"/>\n<text text-anchor=\"middle\" x=\"223.5\" y=\"-2164\" font-family=\"monospace\" font-size=\"10.00\" fill=\"#000000\">conv1.bias</text>\n<text text-anchor=\"middle\" x=\"223.5\" y=\"-2153\" font-family=\"monospace\" font-size=\"10.00\" fill=\"#000000\"> (32)</text>\n</g>\n<!-- 140676009556640&#45;&gt;140676009526992 -->\n<g id=\"edge44\" class=\"edge\">\n<title>140676009556640&#45;&gt;140676009526992</title>\n<path fill=\"none\" stroke=\"#000000\" d=\"M223.5,-2145.7333C223.5,-2138.0322 223.5,-2128.5977 223.5,-2120.3414\"/>\n<polygon fill=\"#000000\" stroke=\"#000000\" points=\"227.0001,-2120.0864 223.5,-2110.0864 220.0001,-2120.0864 227.0001,-2120.0864\"/>\n</g>\n<!-- 140676009527504 -->\n<g id=\"node47\" class=\"node\">\n<title>140676009527504</title>\n<polygon fill=\"#d3d3d3\" stroke=\"#000000\" points=\"385,-1989 284,-1989 284,-1970 385,-1970 385,-1989\"/>\n<text text-anchor=\"middle\" x=\"334.5\" y=\"-1977\" font-family=\"monospace\" font-size=\"10.00\" fill=\"#000000\">AccumulateGrad</text>\n</g>\n<!-- 140676009527504&#45;&gt;140676009465744 -->\n<g id=\"edge45\" class=\"edge\">\n<title>140676009527504&#45;&gt;140676009465744</title>\n<path fill=\"none\" stroke=\"#000000\" d=\"M334.5,-1969.7796C334.5,-1961.5376 334.5,-1949.4457 334.5,-1939.129\"/>\n<polygon fill=\"#000000\" stroke=\"#000000\" points=\"338.0001,-1938.8972 334.5,-1928.8972 331.0001,-1938.8973 338.0001,-1938.8972\"/>\n</g>\n<!-- 140676009557200 -->\n<g id=\"node48\" class=\"node\">\n<title>140676009557200</title>\n<polygon fill=\"#add8e6\" stroke=\"#000000\" points=\"382,-2055 287,-2055 287,-2025 382,-2025 382,-2055\"/>\n<text text-anchor=\"middle\" x=\"334.5\" y=\"-2043\" font-family=\"monospace\" font-size=\"10.00\" fill=\"#000000\">batch1.weight</text>\n<text text-anchor=\"middle\" x=\"334.5\" y=\"-2032\" font-family=\"monospace\" font-size=\"10.00\" fill=\"#000000\"> (32)</text>\n</g>\n<!-- 140676009557200&#45;&gt;140676009527504 -->\n<g id=\"edge46\" class=\"edge\">\n<title>140676009557200&#45;&gt;140676009527504</title>\n<path fill=\"none\" stroke=\"#000000\" d=\"M334.5,-2024.7333C334.5,-2017.0322 334.5,-2007.5977 334.5,-1999.3414\"/>\n<polygon fill=\"#000000\" stroke=\"#000000\" points=\"338.0001,-1999.0864 334.5,-1989.0864 331.0001,-1999.0864 338.0001,-1999.0864\"/>\n</g>\n<!-- 140676009526608 -->\n<g id=\"node49\" class=\"node\">\n<title>140676009526608</title>\n<polygon fill=\"#d3d3d3\" stroke=\"#000000\" points=\"504,-1989 403,-1989 403,-1970 504,-1970 504,-1989\"/>\n<text text-anchor=\"middle\" x=\"453.5\" y=\"-1977\" font-family=\"monospace\" font-size=\"10.00\" fill=\"#000000\">AccumulateGrad</text>\n</g>\n<!-- 140676009526608&#45;&gt;140676009465744 -->\n<g id=\"edge47\" class=\"edge\">\n<title>140676009526608&#45;&gt;140676009465744</title>\n<path fill=\"none\" stroke=\"#000000\" d=\"M434.6441,-1969.9136C415.1469,-1960.0012 384.4965,-1944.4184 362.2368,-1933.1015\"/>\n<polygon fill=\"#000000\" stroke=\"#000000\" points=\"363.768,-1929.9536 353.2677,-1928.5416 360.5956,-1936.1935 363.768,-1929.9536\"/>\n</g>\n<!-- 140676009556240 -->\n<g id=\"node50\" class=\"node\">\n<title>140676009556240</title>\n<polygon fill=\"#add8e6\" stroke=\"#000000\" points=\"495,-2055 412,-2055 412,-2025 495,-2025 495,-2055\"/>\n<text text-anchor=\"middle\" x=\"453.5\" y=\"-2043\" font-family=\"monospace\" font-size=\"10.00\" fill=\"#000000\">batch1.bias</text>\n<text text-anchor=\"middle\" x=\"453.5\" y=\"-2032\" font-family=\"monospace\" font-size=\"10.00\" fill=\"#000000\"> (32)</text>\n</g>\n<!-- 140676009556240&#45;&gt;140676009526608 -->\n<g id=\"edge48\" class=\"edge\">\n<title>140676009556240&#45;&gt;140676009526608</title>\n<path fill=\"none\" stroke=\"#000000\" d=\"M453.5,-2024.7333C453.5,-2017.0322 453.5,-2007.5977 453.5,-1999.3414\"/>\n<polygon fill=\"#000000\" stroke=\"#000000\" points=\"457.0001,-1999.0864 453.5,-1989.0864 450.0001,-1999.0864 457.0001,-1999.0864\"/>\n</g>\n<!-- 140676352057488 -->\n<g id=\"node51\" class=\"node\">\n<title>140676352057488</title>\n<polygon fill=\"#d3d3d3\" stroke=\"#000000\" points=\"520,-1868 419,-1868 419,-1849 520,-1849 520,-1868\"/>\n<text text-anchor=\"middle\" x=\"469.5\" y=\"-1856\" font-family=\"monospace\" font-size=\"10.00\" fill=\"#000000\">AccumulateGrad</text>\n</g>\n<!-- 140676352057488&#45;&gt;140676015308688 -->\n<g id=\"edge49\" class=\"edge\">\n<title>140676352057488&#45;&gt;140676015308688</title>\n<path fill=\"none\" stroke=\"#000000\" d=\"M466.3646,-1848.9197C464.019,-1841.7525 460.732,-1831.7089 457.8452,-1822.8882\"/>\n<polygon fill=\"#000000\" stroke=\"#000000\" points=\"461.1575,-1821.7561 454.7206,-1813.3408 454.5047,-1823.9335 461.1575,-1821.7561\"/>\n</g>\n<!-- 140676009556560 -->\n<g id=\"node52\" class=\"node\">\n<title>140676009556560</title>\n<polygon fill=\"#add8e6\" stroke=\"#000000\" points=\"534,-1934 427,-1934 427,-1904 534,-1904 534,-1934\"/>\n<text text-anchor=\"middle\" x=\"480.5\" y=\"-1922\" font-family=\"monospace\" font-size=\"10.00\" fill=\"#000000\">conv2.weight</text>\n<text text-anchor=\"middle\" x=\"480.5\" y=\"-1911\" font-family=\"monospace\" font-size=\"10.00\" fill=\"#000000\"> (64, 32, 3, 3)</text>\n</g>\n<!-- 140676009556560&#45;&gt;140676352057488 -->\n<g id=\"edge50\" class=\"edge\">\n<title>140676009556560&#45;&gt;140676352057488</title>\n<path fill=\"none\" stroke=\"#000000\" d=\"M477.7242,-1903.7333C476.3081,-1895.9447 474.5696,-1886.3831 473.0564,-1878.0604\"/>\n<polygon fill=\"#000000\" stroke=\"#000000\" points=\"476.4755,-1877.299 471.243,-1868.0864 469.5884,-1878.5512 476.4755,-1877.299\"/>\n</g>\n<!-- 140676363525840 -->\n<g id=\"node53\" class=\"node\">\n<title>140676363525840</title>\n<polygon fill=\"#d3d3d3\" stroke=\"#000000\" points=\"639,-1813 550,-1813 550,-1794 639,-1794 639,-1813\"/>\n<text text-anchor=\"middle\" x=\"594.5\" y=\"-1801\" font-family=\"monospace\" font-size=\"10.00\" fill=\"#000000\">ViewBackward</text>\n</g>\n<!-- 140676363525840&#45;&gt;140676352912464 -->\n<g id=\"edge51\" class=\"edge\">\n<title>140676363525840&#45;&gt;140676352912464</title>\n<path fill=\"none\" stroke=\"#000000\" d=\"M581.9586,-1793.9197C571.3522,-1785.8177 555.9341,-1774.0399 543.4561,-1764.5082\"/>\n<polygon fill=\"#000000\" stroke=\"#000000\" points=\"545.4539,-1761.6299 535.3825,-1758.3408 541.2046,-1767.1926 545.4539,-1761.6299\"/>\n</g>\n<!-- 140676009464144 -->\n<g id=\"node54\" class=\"node\">\n<title>140676009464144</title>\n<polygon fill=\"#d3d3d3\" stroke=\"#000000\" points=\"645,-1868 544,-1868 544,-1849 645,-1849 645,-1868\"/>\n<text text-anchor=\"middle\" x=\"594.5\" y=\"-1856\" font-family=\"monospace\" font-size=\"10.00\" fill=\"#000000\">AccumulateGrad</text>\n</g>\n<!-- 140676009464144&#45;&gt;140676363525840 -->\n<g id=\"edge52\" class=\"edge\">\n<title>140676009464144&#45;&gt;140676363525840</title>\n<path fill=\"none\" stroke=\"#000000\" d=\"M594.5,-1848.9197C594.5,-1841.9083 594.5,-1832.1442 594.5,-1823.4652\"/>\n<polygon fill=\"#000000\" stroke=\"#000000\" points=\"598.0001,-1823.3408 594.5,-1813.3408 591.0001,-1823.3409 598.0001,-1823.3408\"/>\n</g>\n<!-- 140676009554240 -->\n<g id=\"node55\" class=\"node\">\n<title>140676009554240</title>\n<polygon fill=\"#add8e6\" stroke=\"#000000\" points=\"633,-1934 556,-1934 556,-1904 633,-1904 633,-1934\"/>\n<text text-anchor=\"middle\" x=\"594.5\" y=\"-1922\" font-family=\"monospace\" font-size=\"10.00\" fill=\"#000000\">conv2.bias</text>\n<text text-anchor=\"middle\" x=\"594.5\" y=\"-1911\" font-family=\"monospace\" font-size=\"10.00\" fill=\"#000000\"> (64)</text>\n</g>\n<!-- 140676009554240&#45;&gt;140676009464144 -->\n<g id=\"edge53\" class=\"edge\">\n<title>140676009554240&#45;&gt;140676009464144</title>\n<path fill=\"none\" stroke=\"#000000\" d=\"M594.5,-1903.7333C594.5,-1896.0322 594.5,-1886.5977 594.5,-1878.3414\"/>\n<polygon fill=\"#000000\" stroke=\"#000000\" points=\"598.0001,-1878.0864 594.5,-1868.0864 591.0001,-1878.0864 598.0001,-1878.0864\"/>\n</g>\n<!-- 140676009465296 -->\n<g id=\"node56\" class=\"node\">\n<title>140676009465296</title>\n<polygon fill=\"#d3d3d3\" stroke=\"#000000\" points=\"734,-1637 633,-1637 633,-1618 734,-1618 734,-1637\"/>\n<text text-anchor=\"middle\" x=\"683.5\" y=\"-1625\" font-family=\"monospace\" font-size=\"10.00\" fill=\"#000000\">AccumulateGrad</text>\n</g>\n<!-- 140676009465296&#45;&gt;140676009466448 -->\n<g id=\"edge54\" class=\"edge\">\n<title>140676009465296&#45;&gt;140676009466448</title>\n<path fill=\"none\" stroke=\"#000000\" d=\"M681.572,-1617.7796C679.9198,-1609.4499 677.4877,-1597.188 675.4274,-1586.8004\"/>\n<polygon fill=\"#000000\" stroke=\"#000000\" points=\"678.8419,-1586.0252 673.4631,-1576.8972 671.9756,-1587.3871 678.8419,-1586.0252\"/>\n</g>\n<!-- 140676009556480 -->\n<g id=\"node57\" class=\"node\">\n<title>140676009556480</title>\n<polygon fill=\"#add8e6\" stroke=\"#000000\" points=\"740,-1703 627,-1703 627,-1673 740,-1673 740,-1703\"/>\n<text text-anchor=\"middle\" x=\"683.5\" y=\"-1691\" font-family=\"monospace\" font-size=\"10.00\" fill=\"#000000\">conv3.weight</text>\n<text text-anchor=\"middle\" x=\"683.5\" y=\"-1680\" font-family=\"monospace\" font-size=\"10.00\" fill=\"#000000\"> (128, 64, 3, 3)</text>\n</g>\n<!-- 140676009556480&#45;&gt;140676009465296 -->\n<g id=\"edge55\" class=\"edge\">\n<title>140676009556480&#45;&gt;140676009465296</title>\n<path fill=\"none\" stroke=\"#000000\" d=\"M683.5,-1672.7333C683.5,-1665.0322 683.5,-1655.5977 683.5,-1647.3414\"/>\n<polygon fill=\"#000000\" stroke=\"#000000\" points=\"687.0001,-1647.0864 683.5,-1637.0864 680.0001,-1647.0864 687.0001,-1647.0864\"/>\n</g>\n<!-- 140676009467408 -->\n<g id=\"node58\" class=\"node\">\n<title>140676009467408</title>\n<polygon fill=\"#d3d3d3\" stroke=\"#000000\" points=\"859,-1576.5 770,-1576.5 770,-1557.5 859,-1557.5 859,-1576.5\"/>\n<text text-anchor=\"middle\" x=\"814.5\" y=\"-1564.5\" font-family=\"monospace\" font-size=\"10.00\" fill=\"#000000\">ViewBackward</text>\n</g>\n<!-- 140676009467408&#45;&gt;140676009464784 -->\n<g id=\"edge56\" class=\"edge\">\n<title>140676009467408&#45;&gt;140676009464784</title>\n<path fill=\"none\" stroke=\"#000000\" d=\"M814.1787,-1557.2796C813.9062,-1549.0376 813.5065,-1536.9457 813.1654,-1526.629\"/>\n<polygon fill=\"#000000\" stroke=\"#000000\" points=\"816.6558,-1526.2761 812.8272,-1516.3972 809.6596,-1526.5074 816.6558,-1526.2761\"/>\n</g>\n<!-- 140676363524816 -->\n<g id=\"node59\" class=\"node\">\n<title>140676363524816</title>\n<polygon fill=\"#d3d3d3\" stroke=\"#000000\" points=\"865,-1637 764,-1637 764,-1618 865,-1618 865,-1637\"/>\n<text text-anchor=\"middle\" x=\"814.5\" y=\"-1625\" font-family=\"monospace\" font-size=\"10.00\" fill=\"#000000\">AccumulateGrad</text>\n</g>\n<!-- 140676363524816&#45;&gt;140676009467408 -->\n<g id=\"edge57\" class=\"edge\">\n<title>140676363524816&#45;&gt;140676009467408</title>\n<path fill=\"none\" stroke=\"#000000\" d=\"M814.5,-1617.7796C814.5,-1609.5376 814.5,-1597.4457 814.5,-1587.129\"/>\n<polygon fill=\"#000000\" stroke=\"#000000\" points=\"818.0001,-1586.8972 814.5,-1576.8972 811.0001,-1586.8973 818.0001,-1586.8972\"/>\n</g>\n<!-- 140676009556880 -->\n<g id=\"node60\" class=\"node\">\n<title>140676009556880</title>\n<polygon fill=\"#add8e6\" stroke=\"#000000\" points=\"853,-1703 776,-1703 776,-1673 853,-1673 853,-1703\"/>\n<text text-anchor=\"middle\" x=\"814.5\" y=\"-1691\" font-family=\"monospace\" font-size=\"10.00\" fill=\"#000000\">conv3.bias</text>\n<text text-anchor=\"middle\" x=\"814.5\" y=\"-1680\" font-family=\"monospace\" font-size=\"10.00\" fill=\"#000000\"> (128)</text>\n</g>\n<!-- 140676009556880&#45;&gt;140676363524816 -->\n<g id=\"edge58\" class=\"edge\">\n<title>140676009556880&#45;&gt;140676363524816</title>\n<path fill=\"none\" stroke=\"#000000\" d=\"M814.5,-1672.7333C814.5,-1665.0322 814.5,-1655.5977 814.5,-1647.3414\"/>\n<polygon fill=\"#000000\" stroke=\"#000000\" points=\"818.0001,-1647.0864 814.5,-1637.0864 811.0001,-1647.0864 818.0001,-1647.0864\"/>\n</g>\n<!-- 140676009464016 -->\n<g id=\"node61\" class=\"node\">\n<title>140676009464016</title>\n<polygon fill=\"#d3d3d3\" stroke=\"#000000\" points=\"976,-1516 875,-1516 875,-1497 976,-1497 976,-1516\"/>\n<text text-anchor=\"middle\" x=\"925.5\" y=\"-1504\" font-family=\"monospace\" font-size=\"10.00\" fill=\"#000000\">AccumulateGrad</text>\n</g>\n<!-- 140676009464016&#45;&gt;140676009465040 -->\n<g id=\"edge59\" class=\"edge\">\n<title>140676009464016&#45;&gt;140676009465040</title>\n<path fill=\"none\" stroke=\"#000000\" d=\"M925.5,-1496.7796C925.5,-1488.5376 925.5,-1476.4457 925.5,-1466.129\"/>\n<polygon fill=\"#000000\" stroke=\"#000000\" points=\"929.0001,-1465.8972 925.5,-1455.8972 922.0001,-1465.8973 929.0001,-1465.8972\"/>\n</g>\n<!-- 140676008416032 -->\n<g id=\"node62\" class=\"node\">\n<title>140676008416032</title>\n<polygon fill=\"#add8e6\" stroke=\"#000000\" points=\"973,-1582 878,-1582 878,-1552 973,-1552 973,-1582\"/>\n<text text-anchor=\"middle\" x=\"925.5\" y=\"-1570\" font-family=\"monospace\" font-size=\"10.00\" fill=\"#000000\">batch2.weight</text>\n<text text-anchor=\"middle\" x=\"925.5\" y=\"-1559\" font-family=\"monospace\" font-size=\"10.00\" fill=\"#000000\"> (128)</text>\n</g>\n<!-- 140676008416032&#45;&gt;140676009464016 -->\n<g id=\"edge60\" class=\"edge\">\n<title>140676008416032&#45;&gt;140676009464016</title>\n<path fill=\"none\" stroke=\"#000000\" d=\"M925.5,-1551.7333C925.5,-1544.0322 925.5,-1534.5977 925.5,-1526.3414\"/>\n<polygon fill=\"#000000\" stroke=\"#000000\" points=\"929.0001,-1526.0864 925.5,-1516.0864 922.0001,-1526.0864 929.0001,-1526.0864\"/>\n</g>\n<!-- 140676009467536 -->\n<g id=\"node63\" class=\"node\">\n<title>140676009467536</title>\n<polygon fill=\"#d3d3d3\" stroke=\"#000000\" points=\"1095,-1516 994,-1516 994,-1497 1095,-1497 1095,-1516\"/>\n<text text-anchor=\"middle\" x=\"1044.5\" y=\"-1504\" font-family=\"monospace\" font-size=\"10.00\" fill=\"#000000\">AccumulateGrad</text>\n</g>\n<!-- 140676009467536&#45;&gt;140676009465040 -->\n<g id=\"edge61\" class=\"edge\">\n<title>140676009467536&#45;&gt;140676009465040</title>\n<path fill=\"none\" stroke=\"#000000\" d=\"M1025.6441,-1496.9136C1006.1469,-1487.0012 975.4965,-1471.4184 953.2368,-1460.1015\"/>\n<polygon fill=\"#000000\" stroke=\"#000000\" points=\"954.768,-1456.9536 944.2677,-1455.5416 951.5956,-1463.1935 954.768,-1456.9536\"/>\n</g>\n<!-- 140676008417312 -->\n<g id=\"node64\" class=\"node\">\n<title>140676008417312</title>\n<polygon fill=\"#add8e6\" stroke=\"#000000\" points=\"1086,-1582 1003,-1582 1003,-1552 1086,-1552 1086,-1582\"/>\n<text text-anchor=\"middle\" x=\"1044.5\" y=\"-1570\" font-family=\"monospace\" font-size=\"10.00\" fill=\"#000000\">batch2.bias</text>\n<text text-anchor=\"middle\" x=\"1044.5\" y=\"-1559\" font-family=\"monospace\" font-size=\"10.00\" fill=\"#000000\"> (128)</text>\n</g>\n<!-- 140676008417312&#45;&gt;140676009467536 -->\n<g id=\"edge62\" class=\"edge\">\n<title>140676008417312&#45;&gt;140676009467536</title>\n<path fill=\"none\" stroke=\"#000000\" d=\"M1044.5,-1551.7333C1044.5,-1544.0322 1044.5,-1534.5977 1044.5,-1526.3414\"/>\n<polygon fill=\"#000000\" stroke=\"#000000\" points=\"1048.0001,-1526.0864 1044.5,-1516.0864 1041.0001,-1526.0864 1048.0001,-1526.0864\"/>\n</g>\n<!-- 140676009464272 -->\n<g id=\"node65\" class=\"node\">\n<title>140676009464272</title>\n<polygon fill=\"#d3d3d3\" stroke=\"#000000\" points=\"1118,-1395 1017,-1395 1017,-1376 1118,-1376 1118,-1395\"/>\n<text text-anchor=\"middle\" x=\"1067.5\" y=\"-1383\" font-family=\"monospace\" font-size=\"10.00\" fill=\"#000000\">AccumulateGrad</text>\n</g>\n<!-- 140676009464272&#45;&gt;140676009465808 -->\n<g id=\"edge63\" class=\"edge\">\n<title>140676009464272&#45;&gt;140676009465808</title>\n<path fill=\"none\" stroke=\"#000000\" d=\"M1064.713,-1375.9197C1062.6507,-1368.8304 1059.7697,-1358.9269 1057.224,-1350.1763\"/>\n<polygon fill=\"#000000\" stroke=\"#000000\" points=\"1060.5168,-1348.9651 1054.3628,-1340.3408 1053.7955,-1350.9205 1060.5168,-1348.9651\"/>\n</g>\n<!-- 140676009556320 -->\n<g id=\"node66\" class=\"node\">\n<title>140676009556320</title>\n<polygon fill=\"#add8e6\" stroke=\"#000000\" points=\"1137,-1461 1018,-1461 1018,-1431 1137,-1431 1137,-1461\"/>\n<text text-anchor=\"middle\" x=\"1077.5\" y=\"-1449\" font-family=\"monospace\" font-size=\"10.00\" fill=\"#000000\">conv4.weight</text>\n<text text-anchor=\"middle\" x=\"1077.5\" y=\"-1438\" font-family=\"monospace\" font-size=\"10.00\" fill=\"#000000\"> (128, 128, 3, 3)</text>\n</g>\n<!-- 140676009556320&#45;&gt;140676009464272 -->\n<g id=\"edge64\" class=\"edge\">\n<title>140676009556320&#45;&gt;140676009464272</title>\n<path fill=\"none\" stroke=\"#000000\" d=\"M1074.9766,-1430.7333C1073.6892,-1422.9447 1072.1088,-1413.3831 1070.7331,-1405.0604\"/>\n<polygon fill=\"#000000\" stroke=\"#000000\" points=\"1074.1685,-1404.3817 1069.0845,-1395.0864 1067.2622,-1405.5233 1074.1685,-1404.3817\"/>\n</g>\n<!-- 140676009464656 -->\n<g id=\"node67\" class=\"node\">\n<title>140676009464656</title>\n<polygon fill=\"#d3d3d3\" stroke=\"#000000\" points=\"1239,-1340 1150,-1340 1150,-1321 1239,-1321 1239,-1340\"/>\n<text text-anchor=\"middle\" x=\"1194.5\" y=\"-1328\" font-family=\"monospace\" font-size=\"10.00\" fill=\"#000000\">ViewBackward</text>\n</g>\n<!-- 140676009464656&#45;&gt;140676009467344 -->\n<g id=\"edge65\" class=\"edge\">\n<title>140676009464656&#45;&gt;140676009467344</title>\n<path fill=\"none\" stroke=\"#000000\" d=\"M1181.9586,-1320.9197C1171.3522,-1312.8177 1155.9341,-1301.0399 1143.4561,-1291.5082\"/>\n<polygon fill=\"#000000\" stroke=\"#000000\" points=\"1145.4539,-1288.6299 1135.3825,-1285.3408 1141.2046,-1294.1926 1145.4539,-1288.6299\"/>\n</g>\n<!-- 140676352913104 -->\n<g id=\"node68\" class=\"node\">\n<title>140676352913104</title>\n<polygon fill=\"#d3d3d3\" stroke=\"#000000\" points=\"1245,-1395 1144,-1395 1144,-1376 1245,-1376 1245,-1395\"/>\n<text text-anchor=\"middle\" x=\"1194.5\" y=\"-1383\" font-family=\"monospace\" font-size=\"10.00\" fill=\"#000000\">AccumulateGrad</text>\n</g>\n<!-- 140676352913104&#45;&gt;140676009464656 -->\n<g id=\"edge66\" class=\"edge\">\n<title>140676352913104&#45;&gt;140676009464656</title>\n<path fill=\"none\" stroke=\"#000000\" d=\"M1194.5,-1375.9197C1194.5,-1368.9083 1194.5,-1359.1442 1194.5,-1350.4652\"/>\n<polygon fill=\"#000000\" stroke=\"#000000\" points=\"1198.0001,-1350.3408 1194.5,-1340.3408 1191.0001,-1350.3409 1198.0001,-1350.3408\"/>\n</g>\n<!-- 140676008417792 -->\n<g id=\"node69\" class=\"node\">\n<title>140676008417792</title>\n<polygon fill=\"#add8e6\" stroke=\"#000000\" points=\"1233,-1461 1156,-1461 1156,-1431 1233,-1431 1233,-1461\"/>\n<text text-anchor=\"middle\" x=\"1194.5\" y=\"-1449\" font-family=\"monospace\" font-size=\"10.00\" fill=\"#000000\">conv4.bias</text>\n<text text-anchor=\"middle\" x=\"1194.5\" y=\"-1438\" font-family=\"monospace\" font-size=\"10.00\" fill=\"#000000\"> (128)</text>\n</g>\n<!-- 140676008417792&#45;&gt;140676352913104 -->\n<g id=\"edge67\" class=\"edge\">\n<title>140676008417792&#45;&gt;140676352913104</title>\n<path fill=\"none\" stroke=\"#000000\" d=\"M1194.5,-1430.7333C1194.5,-1423.0322 1194.5,-1413.5977 1194.5,-1405.3414\"/>\n<polygon fill=\"#000000\" stroke=\"#000000\" points=\"1198.0001,-1405.0864 1194.5,-1395.0864 1191.0001,-1405.0864 1198.0001,-1405.0864\"/>\n</g>\n<!-- 140676009465232 -->\n<g id=\"node70\" class=\"node\">\n<title>140676009465232</title>\n<polygon fill=\"#d3d3d3\" stroke=\"#000000\" points=\"1333,-1109 1232,-1109 1232,-1090 1333,-1090 1333,-1109\"/>\n<text text-anchor=\"middle\" x=\"1282.5\" y=\"-1097\" font-family=\"monospace\" font-size=\"10.00\" fill=\"#000000\">AccumulateGrad</text>\n</g>\n<!-- 140676009465232&#45;&gt;140676009467152 -->\n<g id=\"edge68\" class=\"edge\">\n<title>140676009465232&#45;&gt;140676009467152</title>\n<path fill=\"none\" stroke=\"#000000\" d=\"M1279.9293,-1089.7796C1277.7264,-1081.4499 1274.4836,-1069.188 1271.7365,-1058.8004\"/>\n<polygon fill=\"#000000\" stroke=\"#000000\" points=\"1275.0579,-1057.67 1269.1175,-1048.8972 1268.2906,-1059.4598 1275.0579,-1057.67\"/>\n</g>\n<!-- 140676008418512 -->\n<g id=\"node71\" class=\"node\">\n<title>140676008418512</title>\n<polygon fill=\"#add8e6\" stroke=\"#000000\" points=\"1352,-1175 1233,-1175 1233,-1145 1352,-1145 1352,-1175\"/>\n<text text-anchor=\"middle\" x=\"1292.5\" y=\"-1163\" font-family=\"monospace\" font-size=\"10.00\" fill=\"#000000\">conv5.weight</text>\n<text text-anchor=\"middle\" x=\"1292.5\" y=\"-1152\" font-family=\"monospace\" font-size=\"10.00\" fill=\"#000000\"> (256, 128, 3, 3)</text>\n</g>\n<!-- 140676008418512&#45;&gt;140676009465232 -->\n<g id=\"edge69\" class=\"edge\">\n<title>140676008418512&#45;&gt;140676009465232</title>\n<path fill=\"none\" stroke=\"#000000\" d=\"M1289.9766,-1144.7333C1288.6892,-1136.9447 1287.1088,-1127.3831 1285.7331,-1119.0604\"/>\n<polygon fill=\"#000000\" stroke=\"#000000\" points=\"1289.1685,-1118.3817 1284.0845,-1109.0864 1282.2622,-1119.5233 1289.1685,-1118.3817\"/>\n</g>\n<!-- 140676009465424 -->\n<g id=\"node72\" class=\"node\">\n<title>140676009465424</title>\n<polygon fill=\"#d3d3d3\" stroke=\"#000000\" points=\"1454,-1048.5 1365,-1048.5 1365,-1029.5 1454,-1029.5 1454,-1048.5\"/>\n<text text-anchor=\"middle\" x=\"1409.5\" y=\"-1036.5\" font-family=\"monospace\" font-size=\"10.00\" fill=\"#000000\">ViewBackward</text>\n</g>\n<!-- 140676009465424&#45;&gt;140676009739536 -->\n<g id=\"edge70\" class=\"edge\">\n<title>140676009465424&#45;&gt;140676009739536</title>\n<path fill=\"none\" stroke=\"#000000\" d=\"M1409.1787,-1029.2796C1408.9062,-1021.0376 1408.5065,-1008.9457 1408.1654,-998.629\"/>\n<polygon fill=\"#000000\" stroke=\"#000000\" points=\"1411.6558,-998.2761 1407.8272,-988.3972 1404.6596,-998.5074 1411.6558,-998.2761\"/>\n</g>\n<!-- 140676363174864 -->\n<g id=\"node73\" class=\"node\">\n<title>140676363174864</title>\n<polygon fill=\"#d3d3d3\" stroke=\"#000000\" points=\"1460,-1109 1359,-1109 1359,-1090 1460,-1090 1460,-1109\"/>\n<text text-anchor=\"middle\" x=\"1409.5\" y=\"-1097\" font-family=\"monospace\" font-size=\"10.00\" fill=\"#000000\">AccumulateGrad</text>\n</g>\n<!-- 140676363174864&#45;&gt;140676009465424 -->\n<g id=\"edge71\" class=\"edge\">\n<title>140676363174864&#45;&gt;140676009465424</title>\n<path fill=\"none\" stroke=\"#000000\" d=\"M1409.5,-1089.7796C1409.5,-1081.5376 1409.5,-1069.4457 1409.5,-1059.129\"/>\n<polygon fill=\"#000000\" stroke=\"#000000\" points=\"1413.0001,-1058.8972 1409.5,-1048.8972 1406.0001,-1058.8973 1413.0001,-1058.8972\"/>\n</g>\n<!-- 140676008418432 -->\n<g id=\"node74\" class=\"node\">\n<title>140676008418432</title>\n<polygon fill=\"#add8e6\" stroke=\"#000000\" points=\"1448,-1175 1371,-1175 1371,-1145 1448,-1145 1448,-1175\"/>\n<text text-anchor=\"middle\" x=\"1409.5\" y=\"-1163\" font-family=\"monospace\" font-size=\"10.00\" fill=\"#000000\">conv5.bias</text>\n<text text-anchor=\"middle\" x=\"1409.5\" y=\"-1152\" font-family=\"monospace\" font-size=\"10.00\" fill=\"#000000\"> (256)</text>\n</g>\n<!-- 140676008418432&#45;&gt;140676363174864 -->\n<g id=\"edge72\" class=\"edge\">\n<title>140676008418432&#45;&gt;140676363174864</title>\n<path fill=\"none\" stroke=\"#000000\" d=\"M1409.5,-1144.7333C1409.5,-1137.0322 1409.5,-1127.5977 1409.5,-1119.3414\"/>\n<polygon fill=\"#000000\" stroke=\"#000000\" points=\"1413.0001,-1119.0864 1409.5,-1109.0864 1406.0001,-1119.0864 1413.0001,-1119.0864\"/>\n</g>\n<!-- 140676009739664 -->\n<g id=\"node75\" class=\"node\">\n<title>140676009739664</title>\n<polygon fill=\"#d3d3d3\" stroke=\"#000000\" points=\"1571,-988 1470,-988 1470,-969 1571,-969 1571,-988\"/>\n<text text-anchor=\"middle\" x=\"1520.5\" y=\"-976\" font-family=\"monospace\" font-size=\"10.00\" fill=\"#000000\">AccumulateGrad</text>\n</g>\n<!-- 140676009739664&#45;&gt;140677888382032 -->\n<g id=\"edge73\" class=\"edge\">\n<title>140676009739664&#45;&gt;140677888382032</title>\n<path fill=\"none\" stroke=\"#000000\" d=\"M1520.5,-968.7796C1520.5,-960.5376 1520.5,-948.4457 1520.5,-938.129\"/>\n<polygon fill=\"#000000\" stroke=\"#000000\" points=\"1524.0001,-937.8972 1520.5,-927.8972 1517.0001,-937.8973 1524.0001,-937.8972\"/>\n</g>\n<!-- 140676008416352 -->\n<g id=\"node76\" class=\"node\">\n<title>140676008416352</title>\n<polygon fill=\"#add8e6\" stroke=\"#000000\" points=\"1568,-1054 1473,-1054 1473,-1024 1568,-1024 1568,-1054\"/>\n<text text-anchor=\"middle\" x=\"1520.5\" y=\"-1042\" font-family=\"monospace\" font-size=\"10.00\" fill=\"#000000\">batch3.weight</text>\n<text text-anchor=\"middle\" x=\"1520.5\" y=\"-1031\" font-family=\"monospace\" font-size=\"10.00\" fill=\"#000000\"> (256)</text>\n</g>\n<!-- 140676008416352&#45;&gt;140676009739664 -->\n<g id=\"edge74\" class=\"edge\">\n<title>140676008416352&#45;&gt;140676009739664</title>\n<path fill=\"none\" stroke=\"#000000\" d=\"M1520.5,-1023.7333C1520.5,-1016.0322 1520.5,-1006.5977 1520.5,-998.3414\"/>\n<polygon fill=\"#000000\" stroke=\"#000000\" points=\"1524.0001,-998.0864 1520.5,-988.0864 1517.0001,-998.0864 1524.0001,-998.0864\"/>\n</g>\n<!-- 140676009739600 -->\n<g id=\"node77\" class=\"node\">\n<title>140676009739600</title>\n<polygon fill=\"#d3d3d3\" stroke=\"#000000\" points=\"1690,-988 1589,-988 1589,-969 1690,-969 1690,-988\"/>\n<text text-anchor=\"middle\" x=\"1639.5\" y=\"-976\" font-family=\"monospace\" font-size=\"10.00\" fill=\"#000000\">AccumulateGrad</text>\n</g>\n<!-- 140676009739600&#45;&gt;140677888382032 -->\n<g id=\"edge75\" class=\"edge\">\n<title>140676009739600&#45;&gt;140677888382032</title>\n<path fill=\"none\" stroke=\"#000000\" d=\"M1620.6441,-968.9136C1601.1469,-959.0012 1570.4965,-943.4184 1548.2368,-932.1015\"/>\n<polygon fill=\"#000000\" stroke=\"#000000\" points=\"1549.768,-928.9536 1539.2677,-927.5416 1546.5956,-935.1935 1549.768,-928.9536\"/>\n</g>\n<!-- 140676008416752 -->\n<g id=\"node78\" class=\"node\">\n<title>140676008416752</title>\n<polygon fill=\"#add8e6\" stroke=\"#000000\" points=\"1681,-1054 1598,-1054 1598,-1024 1681,-1024 1681,-1054\"/>\n<text text-anchor=\"middle\" x=\"1639.5\" y=\"-1042\" font-family=\"monospace\" font-size=\"10.00\" fill=\"#000000\">batch3.bias</text>\n<text text-anchor=\"middle\" x=\"1639.5\" y=\"-1031\" font-family=\"monospace\" font-size=\"10.00\" fill=\"#000000\"> (256)</text>\n</g>\n<!-- 140676008416752&#45;&gt;140676009739600 -->\n<g id=\"edge76\" class=\"edge\">\n<title>140676008416752&#45;&gt;140676009739600</title>\n<path fill=\"none\" stroke=\"#000000\" d=\"M1639.5,-1023.7333C1639.5,-1016.0322 1639.5,-1006.5977 1639.5,-998.3414\"/>\n<polygon fill=\"#000000\" stroke=\"#000000\" points=\"1643.0001,-998.0864 1639.5,-988.0864 1636.0001,-998.0864 1643.0001,-998.0864\"/>\n</g>\n<!-- 140676009483728 -->\n<g id=\"node79\" class=\"node\">\n<title>140676009483728</title>\n<polygon fill=\"#d3d3d3\" stroke=\"#000000\" points=\"1713,-867 1612,-867 1612,-848 1713,-848 1713,-867\"/>\n<text text-anchor=\"middle\" x=\"1662.5\" y=\"-855\" font-family=\"monospace\" font-size=\"10.00\" fill=\"#000000\">AccumulateGrad</text>\n</g>\n<!-- 140676009483728&#45;&gt;140676007887760 -->\n<g id=\"edge77\" class=\"edge\">\n<title>140676009483728&#45;&gt;140676007887760</title>\n<path fill=\"none\" stroke=\"#000000\" d=\"M1659.713,-847.9197C1657.6507,-840.8304 1654.7697,-830.9269 1652.224,-822.1763\"/>\n<polygon fill=\"#000000\" stroke=\"#000000\" points=\"1655.5168,-820.9651 1649.3628,-812.3408 1648.7955,-822.9205 1655.5168,-820.9651\"/>\n</g>\n<!-- 140676008415872 -->\n<g id=\"node80\" class=\"node\">\n<title>140676008415872</title>\n<polygon fill=\"#add8e6\" stroke=\"#000000\" points=\"1732,-933 1613,-933 1613,-903 1732,-903 1732,-933\"/>\n<text text-anchor=\"middle\" x=\"1672.5\" y=\"-921\" font-family=\"monospace\" font-size=\"10.00\" fill=\"#000000\">conv6.weight</text>\n<text text-anchor=\"middle\" x=\"1672.5\" y=\"-910\" font-family=\"monospace\" font-size=\"10.00\" fill=\"#000000\"> (256, 256, 3, 3)</text>\n</g>\n<!-- 140676008415872&#45;&gt;140676009483728 -->\n<g id=\"edge78\" class=\"edge\">\n<title>140676008415872&#45;&gt;140676009483728</title>\n<path fill=\"none\" stroke=\"#000000\" d=\"M1669.9766,-902.7333C1668.6892,-894.9447 1667.1088,-885.3831 1665.7331,-877.0604\"/>\n<polygon fill=\"#000000\" stroke=\"#000000\" points=\"1669.1685,-876.3817 1664.0845,-867.0864 1662.2622,-877.5233 1669.1685,-876.3817\"/>\n</g>\n<!-- 140676009481104 -->\n<g id=\"node81\" class=\"node\">\n<title>140676009481104</title>\n<polygon fill=\"#d3d3d3\" stroke=\"#000000\" points=\"1834,-812 1745,-812 1745,-793 1834,-793 1834,-812\"/>\n<text text-anchor=\"middle\" x=\"1789.5\" y=\"-800\" font-family=\"monospace\" font-size=\"10.00\" fill=\"#000000\">ViewBackward</text>\n</g>\n<!-- 140676009481104&#45;&gt;140676007890640 -->\n<g id=\"edge79\" class=\"edge\">\n<title>140676009481104&#45;&gt;140676007890640</title>\n<path fill=\"none\" stroke=\"#000000\" d=\"M1776.9586,-792.9197C1766.3522,-784.8177 1750.9341,-773.0399 1738.4561,-763.5082\"/>\n<polygon fill=\"#000000\" stroke=\"#000000\" points=\"1740.4539,-760.6299 1730.3825,-757.3408 1736.2046,-766.1926 1740.4539,-760.6299\"/>\n</g>\n<!-- 140676009481744 -->\n<g id=\"node82\" class=\"node\">\n<title>140676009481744</title>\n<polygon fill=\"#d3d3d3\" stroke=\"#000000\" points=\"1840,-867 1739,-867 1739,-848 1840,-848 1840,-867\"/>\n<text text-anchor=\"middle\" x=\"1789.5\" y=\"-855\" font-family=\"monospace\" font-size=\"10.00\" fill=\"#000000\">AccumulateGrad</text>\n</g>\n<!-- 140676009481744&#45;&gt;140676009481104 -->\n<g id=\"edge80\" class=\"edge\">\n<title>140676009481744&#45;&gt;140676009481104</title>\n<path fill=\"none\" stroke=\"#000000\" d=\"M1789.5,-847.9197C1789.5,-840.9083 1789.5,-831.1442 1789.5,-822.4652\"/>\n<polygon fill=\"#000000\" stroke=\"#000000\" points=\"1793.0001,-822.3408 1789.5,-812.3408 1786.0001,-822.3409 1793.0001,-822.3408\"/>\n</g>\n<!-- 140676008417472 -->\n<g id=\"node83\" class=\"node\">\n<title>140676008417472</title>\n<polygon fill=\"#add8e6\" stroke=\"#000000\" points=\"1828,-933 1751,-933 1751,-903 1828,-903 1828,-933\"/>\n<text text-anchor=\"middle\" x=\"1789.5\" y=\"-921\" font-family=\"monospace\" font-size=\"10.00\" fill=\"#000000\">conv6.bias</text>\n<text text-anchor=\"middle\" x=\"1789.5\" y=\"-910\" font-family=\"monospace\" font-size=\"10.00\" fill=\"#000000\"> (256)</text>\n</g>\n<!-- 140676008417472&#45;&gt;140676009481744 -->\n<g id=\"edge81\" class=\"edge\">\n<title>140676008417472&#45;&gt;140676009481744</title>\n<path fill=\"none\" stroke=\"#000000\" d=\"M1789.5,-902.7333C1789.5,-895.0322 1789.5,-885.5977 1789.5,-877.3414\"/>\n<polygon fill=\"#000000\" stroke=\"#000000\" points=\"1793.0001,-877.0864 1789.5,-867.0864 1786.0001,-877.0864 1793.0001,-877.0864\"/>\n</g>\n<!-- 140676007887376 -->\n<g id=\"node84\" class=\"node\">\n<title>140676007887376</title>\n<polygon fill=\"#d3d3d3\" stroke=\"#000000\" points=\"1889,-509.5 1818,-509.5 1818,-490.5 1889,-490.5 1889,-509.5\"/>\n<text text-anchor=\"middle\" x=\"1853.5\" y=\"-497.5\" font-family=\"monospace\" font-size=\"10.00\" fill=\"#000000\">TBackward</text>\n</g>\n<!-- 140676007887376&#45;&gt;140676007887440 -->\n<g id=\"edge82\" class=\"edge\">\n<title>140676007887376&#45;&gt;140676007887440</title>\n<path fill=\"none\" stroke=\"#000000\" d=\"M1843.0237,-490.2615C1831.9072,-479.9278 1814.1299,-463.4024 1800.712,-450.9294\"/>\n<polygon fill=\"#000000\" stroke=\"#000000\" points=\"1802.7265,-448.0235 1793.0193,-443.7785 1797.9606,-453.1505 1802.7265,-448.0235\"/>\n</g>\n<!-- 140676009482640 -->\n<g id=\"node85\" class=\"node\">\n<title>140676009482640</title>\n<polygon fill=\"#d3d3d3\" stroke=\"#000000\" points=\"1908,-575.5 1807,-575.5 1807,-556.5 1908,-556.5 1908,-575.5\"/>\n<text text-anchor=\"middle\" x=\"1857.5\" y=\"-563.5\" font-family=\"monospace\" font-size=\"10.00\" fill=\"#000000\">AccumulateGrad</text>\n</g>\n<!-- 140676009482640&#45;&gt;140676007887376 -->\n<g id=\"edge83\" class=\"edge\">\n<title>140676009482640&#45;&gt;140676007887376</title>\n<path fill=\"none\" stroke=\"#000000\" d=\"M1856.9098,-556.2615C1856.3308,-546.7077 1855.431,-531.8615 1854.7011,-519.8183\"/>\n<polygon fill=\"#000000\" stroke=\"#000000\" points=\"1858.1913,-519.5484 1854.0926,-509.7785 1851.2041,-519.9719 1858.1913,-519.5484\"/>\n</g>\n<!-- 140676008418592 -->\n<g id=\"node86\" class=\"node\">\n<title>140676008418592</title>\n<polygon fill=\"#add8e6\" stroke=\"#000000\" points=\"1923,-647 1828,-647 1828,-617 1923,-617 1923,-647\"/>\n<text text-anchor=\"middle\" x=\"1875.5\" y=\"-635\" font-family=\"monospace\" font-size=\"10.00\" fill=\"#000000\">fc1.weight</text>\n<text text-anchor=\"middle\" x=\"1875.5\" y=\"-624\" font-family=\"monospace\" font-size=\"10.00\" fill=\"#000000\"> (1024, 4096)</text>\n</g>\n<!-- 140676008418592&#45;&gt;140676009482640 -->\n<g id=\"edge84\" class=\"edge\">\n<title>140676008418592&#45;&gt;140676009482640</title>\n<path fill=\"none\" stroke=\"#000000\" d=\"M1871.3252,-616.6924C1868.7931,-607.408 1865.5375,-595.4708 1862.8216,-585.5127\"/>\n<polygon fill=\"#000000\" stroke=\"#000000\" points=\"1866.1542,-584.4298 1860.1463,-575.7031 1859.4009,-586.2716 1866.1542,-584.4298\"/>\n</g>\n<!-- 140676007887056 -->\n<g id=\"node87\" class=\"node\">\n<title>140676007887056</title>\n<polygon fill=\"#d3d3d3\" stroke=\"#000000\" points=\"1931,-383 1860,-383 1860,-364 1931,-364 1931,-383\"/>\n<text text-anchor=\"middle\" x=\"1895.5\" y=\"-371\" font-family=\"monospace\" font-size=\"10.00\" fill=\"#000000\">TBackward</text>\n</g>\n<!-- 140676007887056&#45;&gt;140676007889296 -->\n<g id=\"edge85\" class=\"edge\">\n<title>140676007887056&#45;&gt;140676007889296</title>\n<path fill=\"none\" stroke=\"#000000\" d=\"M1877.9873,-363.7796C1860.4276,-354.0332 1833.1686,-338.9032 1812.9688,-327.6914\"/>\n<polygon fill=\"#000000\" stroke=\"#000000\" points=\"1814.4113,-324.4891 1803.9693,-322.6962 1811.0142,-330.6095 1814.4113,-324.4891\"/>\n</g>\n<!-- 140677888383056 -->\n<g id=\"node88\" class=\"node\">\n<title>140677888383056</title>\n<polygon fill=\"#d3d3d3\" stroke=\"#000000\" points=\"1950,-443.5 1849,-443.5 1849,-424.5 1950,-424.5 1950,-443.5\"/>\n<text text-anchor=\"middle\" x=\"1899.5\" y=\"-431.5\" font-family=\"monospace\" font-size=\"10.00\" fill=\"#000000\">AccumulateGrad</text>\n</g>\n<!-- 140677888383056&#45;&gt;140676007887056 -->\n<g id=\"edge86\" class=\"edge\">\n<title>140677888383056&#45;&gt;140676007887056</title>\n<path fill=\"none\" stroke=\"#000000\" d=\"M1898.8573,-424.2796C1898.3124,-416.0376 1897.5129,-403.9457 1896.8308,-393.629\"/>\n<polygon fill=\"#000000\" stroke=\"#000000\" points=\"1900.3065,-393.1445 1896.1544,-383.3972 1893.3218,-393.6064 1900.3065,-393.1445\"/>\n</g>\n<!-- 140676008416112 -->\n<g id=\"node89\" class=\"node\">\n<title>140676008416112</title>\n<polygon fill=\"#add8e6\" stroke=\"#000000\" points=\"1996,-515 1907,-515 1907,-485 1996,-485 1996,-515\"/>\n<text text-anchor=\"middle\" x=\"1951.5\" y=\"-503\" font-family=\"monospace\" font-size=\"10.00\" fill=\"#000000\">fc2.weight</text>\n<text text-anchor=\"middle\" x=\"1951.5\" y=\"-492\" font-family=\"monospace\" font-size=\"10.00\" fill=\"#000000\"> (512, 1024)</text>\n</g>\n<!-- 140676008416112&#45;&gt;140677888383056 -->\n<g id=\"edge87\" class=\"edge\">\n<title>140676008416112&#45;&gt;140677888383056</title>\n<path fill=\"none\" stroke=\"#000000\" d=\"M1939.4395,-484.6924C1931.6575,-474.8153 1921.5103,-461.9361 1913.3913,-451.6312\"/>\n<polygon fill=\"#000000\" stroke=\"#000000\" points=\"1916.0828,-449.3919 1907.1448,-443.7031 1910.5844,-453.7241 1916.0828,-449.3919\"/>\n</g>\n<!-- 140676007887952 -->\n<g id=\"node90\" class=\"node\">\n<title>140676007887952</title>\n<polygon fill=\"#d3d3d3\" stroke=\"#000000\" points=\"1944,-196 1873,-196 1873,-177 1944,-177 1944,-196\"/>\n<text text-anchor=\"middle\" x=\"1908.5\" y=\"-184\" font-family=\"monospace\" font-size=\"10.00\" fill=\"#000000\">TBackward</text>\n</g>\n<!-- 140676007887952&#45;&gt;140676388220176 -->\n<g id=\"edge88\" class=\"edge\">\n<title>140676007887952&#45;&gt;140676388220176</title>\n<path fill=\"none\" stroke=\"#000000\" d=\"M1887.2492,-176.9197C1867.8624,-168.1798 1838.9878,-155.1625 1817.114,-145.3014\"/>\n<polygon fill=\"#000000\" stroke=\"#000000\" points=\"1818.4715,-142.0742 1807.9166,-141.155 1815.5946,-148.4557 1818.4715,-142.0742\"/>\n</g>\n<!-- 140676007889680 -->\n<g id=\"node91\" class=\"node\">\n<title>140676007889680</title>\n<polygon fill=\"#d3d3d3\" stroke=\"#000000\" points=\"1959,-256.5 1858,-256.5 1858,-237.5 1959,-237.5 1959,-256.5\"/>\n<text text-anchor=\"middle\" x=\"1908.5\" y=\"-244.5\" font-family=\"monospace\" font-size=\"10.00\" fill=\"#000000\">AccumulateGrad</text>\n</g>\n<!-- 140676007889680&#45;&gt;140676007887952 -->\n<g id=\"edge89\" class=\"edge\">\n<title>140676007889680&#45;&gt;140676007887952</title>\n<path fill=\"none\" stroke=\"#000000\" d=\"M1908.5,-237.2796C1908.5,-229.0376 1908.5,-216.9457 1908.5,-206.629\"/>\n<polygon fill=\"#000000\" stroke=\"#000000\" points=\"1912.0001,-206.3972 1908.5,-196.3972 1905.0001,-206.3973 1912.0001,-206.3972\"/>\n</g>\n<!-- 140676008397552 -->\n<g id=\"node92\" class=\"node\">\n<title>140676008397552</title>\n<polygon fill=\"#add8e6\" stroke=\"#000000\" points=\"1947,-328 1870,-328 1870,-298 1947,-298 1947,-328\"/>\n<text text-anchor=\"middle\" x=\"1908.5\" y=\"-316\" font-family=\"monospace\" font-size=\"10.00\" fill=\"#000000\">fc3.weight</text>\n<text text-anchor=\"middle\" x=\"1908.5\" y=\"-305\" font-family=\"monospace\" font-size=\"10.00\" fill=\"#000000\"> (10, 512)</text>\n</g>\n<!-- 140676008397552&#45;&gt;140676007889680 -->\n<g id=\"edge90\" class=\"edge\">\n<title>140676008397552&#45;&gt;140676007889680</title>\n<path fill=\"none\" stroke=\"#000000\" d=\"M1908.5,-297.6924C1908.5,-288.5067 1908.5,-276.7245 1908.5,-266.8312\"/>\n<polygon fill=\"#000000\" stroke=\"#000000\" points=\"1912.0001,-266.703 1908.5,-256.7031 1905.0001,-266.7031 1912.0001,-266.703\"/>\n</g>\n</g>\n</svg>\n"
          },
          "metadata": {
            "tags": []
          },
          "execution_count": 128
        }
      ]
    }
  ]
}